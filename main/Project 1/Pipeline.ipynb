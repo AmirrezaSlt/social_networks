{
 "cells": [
  {
   "cell_type": "code",
   "execution_count": 1,
   "metadata": {},
   "outputs": [],
   "source": [
    "filenames = [\"address-jobs.txt\", \"address-kennedy.txt\", \"address-lincoln.txt\", \"address-obama.txt\"]\n",
    "filename = filenames[1]"
   ]
  },
  {
   "cell_type": "code",
   "execution_count": 2,
   "metadata": {},
   "outputs": [],
   "source": [
    "with open(filename, \"r\") as f:\n",
    "    text = f.read()"
   ]
  },
  {
   "cell_type": "code",
   "execution_count": 44,
   "metadata": {},
   "outputs": [
    {
     "data": {
      "text/plain": [
       "('ner', <spacy.pipeline.pipes.EntityRecognizer at 0x7f813272abe8>)"
      ]
     },
     "execution_count": 44,
     "metadata": {},
     "output_type": "execute_result"
    }
   ],
   "source": [
    "import spacy \n",
    "nlp = spacy.load(\"en_core_web_sm\")\n",
    "sentencizer = nlp.create_pipe(\"sentencizer\")\n",
    "nlp.add_pipe(sentencizer, first=True)\n",
    "tokenizer = nlp.create_pipe(\"tokenizer\")\n",
    "nlp.add_pipe(tokenizer, first=True)\n",
    "nlp.remove_pipe(\"tagger\")\n",
    "nlp.remove_pipe(\"parser\")\n",
    "nlp.remove_pipe(\"ner\")"
   ]
  },
  {
   "cell_type": "code",
   "execution_count": 45,
   "metadata": {},
   "outputs": [
    {
     "data": {
      "text/plain": [
       "['Tokenizer', 'sentencizer']"
      ]
     },
     "execution_count": 45,
     "metadata": {},
     "output_type": "execute_result"
    }
   ],
   "source": [
    "nlp.pipe_names"
   ]
  },
  {
   "cell_type": "code",
   "execution_count": 40,
   "metadata": {},
   "outputs": [],
   "source": [
    "docs = nlp(text)"
   ]
  },
  {
   "cell_type": "code",
   "execution_count": 42,
   "metadata": {},
   "outputs": [
    {
     "name": "stdout",
     "output_type": "stream",
     "text": [
      "Vice President Johnson, Mr. Speaker, Mr. Chief Justice, President Eisenhower,\n",
      " Vice president Nixon, President Truman, Reverend Clergy, fellow citizens:\n",
      "\n",
      "We observe today not a victory of party but a celebration of\n",
      " freedom--symbolizing an end as well as a beginning--signifying renewal as\n",
      " well as change. For I have sworn before you and Almighty God the same solemn\n",
      " oath our forebears prescribed nearly a century and three quarters ago.\n",
      "\n",
      "The world is very different now. For man holds in his mortal hands the power\n",
      " to abolish all forms of human poverty and all forms of human life. And yet\n",
      " the same revolutionary beliefs for which our forebears fought are still at\n",
      " issue around the globe--the belief that the rights of man come not from the\n",
      " generosity of the state but from the hand of God.\n",
      "\n",
      "We dare not forget today that we are the heirs of that first revolution. Let\n",
      " the word go forth from this time and place, to friend and foe alike, that the\n",
      " torch has been passed to a new generation of Americans--born in this century,\n",
      " tempered by war, disciplined by a hard and bitter peace, proud of our ancient\n",
      " heritage--and unwilling to witness or permit the slow undoing of those human\n",
      " rights to which this nation has always been committed, and to which we are\n",
      " committed today at home and around the world.\n",
      "\n",
      "Let every nation know, whether it wishes us well or ill, that we shall pay any\n",
      " price, bear any burden, meet any hardship, support any friend, oppose any foe\n",
      " to assure the survival and the success of liberty.\n",
      "\n",
      "This much we pledge--and more.\n",
      "\n",
      "To those old allies whose cultural and spiritual origins we share, we pledge\n",
      " the loyalty of faithful friends. United, there is little we cannot do in a\n",
      " host of cooperative ventures. Divided, there is little we can do--for we dare\n",
      " not meet a powerful challenge at odds and split asunder.\n",
      "\n",
      "To those new states whom we welcome to the ranks of the free, we pledge our\n",
      " word that one form of colonial control shall not have passed away merely to\n",
      " be replaced by a far more iron tyranny. We shall not always expect to find\n",
      " them supporting our view. But we shall always hope to find them strongly\n",
      " supporting their own freedom-and to remember that, in the past, those who\n",
      " foolishly sought power by riding the back of the tiger ended up inside.\n",
      "\n",
      "To those peoples in the huts and villages of half the globe struggling to\n",
      " break the bonds of mass misery, we pledge our best efforts to help them help\n",
      " themselves, for whatever period is required--not because the communists may\n",
      " be doing it, not because we seek their votes, but because it is right. If a\n",
      " free society cannot help the many who are poor, it cannot save the few who\n",
      " are rich.\n",
      "\n",
      "To our sister republics south of our border, we offer a special pledge--to\n",
      " convert our good words into good deeds--in a new alliance for progress--to\n",
      " assist free men and free governments in casting off the chains of poverty.\n",
      " But this peaceful revolution of hope cannot become the prey of hostile\n",
      " powers. Let all our neighbors know that we shall join with them to oppose\n",
      " aggression or subversion anywhere in the Americas. And let every other power\n",
      " know that this Hemisphere intends to remain the master of its own house.\n",
      "\n",
      "To that world assembly of sovereign states, the United Nations, our last best\n",
      " hope in an age where the instruments of war have far outpaced the instruments\n",
      " of peace, we renew our pledge of support--to prevent it from becoming merely\n",
      " a forum for invective--to strengthen its shield of the new and the weak--and\n",
      " to enlarge the area in which its writ may run.\n",
      "\n",
      "Finally, to those nations who would make themselves our adversary, we offer\n",
      " not a pledge but a request: that both sides begin anew the quest for peace,\n",
      " before the dark powers of destruction unleashed by science engulf all\n",
      " humanity in planned or accidental self-destruction.\n",
      "\n",
      "We dare not tempt them with weakness. For only when our arms are sufficient\n",
      " beyond doubt can we be certain beyond doubt that they will never be employed.\n",
      "\n",
      "But neither can two great and powerful groups of nations take comfort from our\n",
      " present course--both sides overburdened by the cost of modern weapons, both\n",
      " rightly alarmed by the steady spread of the deadly atom, yet both racing to\n",
      " alter that uncertain balance of terror that stays the hand of mankind's final\n",
      " war.\n",
      "\n",
      "So let us begin anew--remembering on both sides that civility is not a sign of\n",
      " weakness, and sincerity is always subject to proof. Let us never negotiate\n",
      " out of fear. But let us never fear to negotiate.\n",
      "\n",
      "Let both sides explore what problems unite us instead of belaboring those\n",
      " problems which divide us.\n",
      " \n",
      "Let both sides, for the first time, formulate serious and precise proposals\n",
      " for the inspection and control of arms--and bring the absolute power to\n",
      " destroy other nations under the absolute control of all nations.\n",
      "\n",
      "Let both sides seek to invoke the wonders of science instead of its terrors.\n",
      " Together let us explore the stars, conquer the deserts, eradicate disease,\n",
      " tap the ocean depths and encourage the arts and commerce.\n",
      "\n",
      "Let both sides unite to heed in all corners of the earth the command of\n",
      " Isaiah--to \"undo the heavy burdens . . . (and) let the oppressed go free.\"\n",
      "\n",
      "And if a beach-head of cooperation may push back the jungle of suspicion, let\n",
      " both sides join in creating a new endeavor, not a new balance of power, but a\n",
      " new world of law, where the strong are just and the weak secure and the peace\n",
      " preserved.\n",
      "\n",
      "All this will not be finished in the first one hundred days. Nor will it be\n",
      " finished in the first one thousand days, nor in the life of this\n",
      " Administration, nor even perhaps in our lifetime on this planet. But let us\n",
      " begin.\n",
      "\n",
      "In your hands, my fellow citizens, more than mine, will rest the final success\n",
      " or failure of our course. Since this country was founded, each generation of\n",
      " Americans has been summoned to give testimony to its national loyalty. The\n",
      " graves of young Americans who answered the call to service surround the globe.\n",
      "\n",
      "Now the trumpet summons us again-not as a call to bear arms, though arms we\n",
      " need--not as a call to battle, though embattled we are--but a call to bear\n",
      " the burden of a long twilight struggle, year in and year out, \"rejoicing in\n",
      " hope, patient in tribulation\"--a struggle against the common enemies of man:\n",
      " tyranny, poverty, disease and war itself.\n",
      "\n",
      "Can we forge against these enemies a grand and global alliance, North and\n",
      " South, East and West, that can assure a more fruitful life for all mankind?\n",
      " Will you join in that historic effort?\n",
      "\n",
      "In the long history of the world, only a few generations have been granted the\n",
      " role of defending freedom in its hour of maximum danger. I do not shrink from\n",
      " this responsibility--I welcome it. I do not believe that any of us would\n",
      " exchange places with any other people or any other generation. The energy,\n",
      " the faith, the devotion which we bring to this endeavor will light our\n",
      " country and all who serve it--and the glow from that fire can truly light the\n",
      " world.\n",
      "\n",
      "And so, my fellow Americans: ask not what your country can do for you--ask\n",
      " what you can do for your country.\n",
      " \n",
      "My fellow citizens of the world: ask not what America will do for you, but\n",
      " what together we can do for the freedom of man.\n",
      " \n",
      "Finally, whether you are citizens of America or citizens of the world, ask of\n",
      " us here the same high standards of strength and sacrifice which we ask of\n",
      " you. With a good conscience our only sure reward, with history the final\n",
      " judge of our deeds, let us go forth to lead the land we love, asking His\n",
      " blessing and His help, but knowing that here on earth God's work must truly\n",
      " be our own.\n"
     ]
    }
   ],
   "source": [
    "# for doc in docs: \n",
    "#     print(doc)\n",
    "print(docs)"
   ]
  },
  {
   "cell_type": "code",
   "execution_count": null,
   "metadata": {},
   "outputs": [],
   "source": []
  }
 ],
 "metadata": {
  "kernelspec": {
   "display_name": "Python 3",
   "language": "python",
   "name": "python3"
  },
  "language_info": {
   "codemirror_mode": {
    "name": "ipython",
    "version": 3
   },
   "file_extension": ".py",
   "mimetype": "text/x-python",
   "name": "python",
   "nbconvert_exporter": "python",
   "pygments_lexer": "ipython3",
   "version": "3.7.3"
  }
 },
 "nbformat": 4,
 "nbformat_minor": 4
}
