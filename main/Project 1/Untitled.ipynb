{
 "cells": [
  {
   "cell_type": "code",
   "execution_count": 13,
   "metadata": {},
   "outputs": [],
   "source": [
    "filenames = [\"address-jobs.txt\", \"address-kennedy.txt\", \"address-lincoln.txt\", \"address-obama.txt\"]\n",
    "filename = filenames[1]"
   ]
  },
  {
   "cell_type": "code",
   "execution_count": 14,
   "metadata": {},
   "outputs": [],
   "source": [
    "with open(filename, \"r\") as f:\n",
    "    text = f.read()"
   ]
  },
  {
   "cell_type": "code",
   "execution_count": 15,
   "metadata": {},
   "outputs": [
    {
     "name": "stderr",
     "output_type": "stream",
     "text": [
      "[nltk_data] Downloading collection 'all'\n",
      "[nltk_data]    | \n",
      "[nltk_data]    | Downloading package abc to ../nltk...\n",
      "[nltk_data]    |   Package abc is already up-to-date!\n",
      "[nltk_data]    | Downloading package alpino to ../nltk...\n",
      "[nltk_data]    |   Package alpino is already up-to-date!\n",
      "[nltk_data]    | Downloading package biocreative_ppi to ../nltk...\n",
      "[nltk_data]    |   Package biocreative_ppi is already up-to-date!\n",
      "[nltk_data]    | Downloading package brown to ../nltk...\n",
      "[nltk_data]    |   Package brown is already up-to-date!\n",
      "[nltk_data]    | Downloading package brown_tei to ../nltk...\n",
      "[nltk_data]    |   Package brown_tei is already up-to-date!\n",
      "[nltk_data]    | Downloading package cess_cat to ../nltk...\n",
      "[nltk_data]    |   Package cess_cat is already up-to-date!\n",
      "[nltk_data]    | Downloading package cess_esp to ../nltk...\n",
      "[nltk_data]    |   Package cess_esp is already up-to-date!\n",
      "[nltk_data]    | Downloading package chat80 to ../nltk...\n",
      "[nltk_data]    |   Package chat80 is already up-to-date!\n",
      "[nltk_data]    | Downloading package city_database to ../nltk...\n",
      "[nltk_data]    |   Package city_database is already up-to-date!\n",
      "[nltk_data]    | Downloading package cmudict to ../nltk...\n",
      "[nltk_data]    |   Package cmudict is already up-to-date!\n",
      "[nltk_data]    | Downloading package comparative_sentences to\n",
      "[nltk_data]    |     ../nltk...\n",
      "[nltk_data]    |   Package comparative_sentences is already up-to-\n",
      "[nltk_data]    |       date!\n",
      "[nltk_data]    | Downloading package comtrans to ../nltk...\n",
      "[nltk_data]    |   Package comtrans is already up-to-date!\n",
      "[nltk_data]    | Downloading package conll2000 to ../nltk...\n",
      "[nltk_data]    |   Package conll2000 is already up-to-date!\n",
      "[nltk_data]    | Downloading package conll2002 to ../nltk...\n",
      "[nltk_data]    |   Package conll2002 is already up-to-date!\n",
      "[nltk_data]    | Downloading package conll2007 to ../nltk...\n",
      "[nltk_data]    |   Package conll2007 is already up-to-date!\n",
      "[nltk_data]    | Downloading package crubadan to ../nltk...\n",
      "[nltk_data]    |   Package crubadan is already up-to-date!\n",
      "[nltk_data]    | Downloading package dependency_treebank to ../nltk...\n",
      "[nltk_data]    |   Package dependency_treebank is already up-to-date!\n",
      "[nltk_data]    | Downloading package dolch to ../nltk...\n",
      "[nltk_data]    |   Package dolch is already up-to-date!\n",
      "[nltk_data]    | Downloading package europarl_raw to ../nltk...\n",
      "[nltk_data]    |   Package europarl_raw is already up-to-date!\n",
      "[nltk_data]    | Downloading package floresta to ../nltk...\n",
      "[nltk_data]    |   Package floresta is already up-to-date!\n",
      "[nltk_data]    | Downloading package framenet_v15 to ../nltk...\n",
      "[nltk_data]    |   Package framenet_v15 is already up-to-date!\n",
      "[nltk_data]    | Downloading package framenet_v17 to ../nltk...\n",
      "[nltk_data]    |   Package framenet_v17 is already up-to-date!\n",
      "[nltk_data]    | Downloading package gazetteers to ../nltk...\n",
      "[nltk_data]    |   Package gazetteers is already up-to-date!\n",
      "[nltk_data]    | Downloading package genesis to ../nltk...\n",
      "[nltk_data]    |   Package genesis is already up-to-date!\n",
      "[nltk_data]    | Downloading package gutenberg to ../nltk...\n",
      "[nltk_data]    |   Package gutenberg is already up-to-date!\n",
      "[nltk_data]    | Downloading package ieer to ../nltk...\n",
      "[nltk_data]    |   Package ieer is already up-to-date!\n",
      "[nltk_data]    | Downloading package inaugural to ../nltk...\n",
      "[nltk_data]    |   Package inaugural is already up-to-date!\n",
      "[nltk_data]    | Downloading package indian to ../nltk...\n",
      "[nltk_data]    |   Package indian is already up-to-date!\n",
      "[nltk_data]    | Downloading package jeita to ../nltk...\n",
      "[nltk_data]    |   Package jeita is already up-to-date!\n",
      "[nltk_data]    | Downloading package kimmo to ../nltk...\n",
      "[nltk_data]    |   Package kimmo is already up-to-date!\n",
      "[nltk_data]    | Downloading package knbc to ../nltk...\n",
      "[nltk_data]    |   Package knbc is already up-to-date!\n",
      "[nltk_data]    | Downloading package lin_thesaurus to ../nltk...\n",
      "[nltk_data]    |   Package lin_thesaurus is already up-to-date!\n",
      "[nltk_data]    | Downloading package mac_morpho to ../nltk...\n",
      "[nltk_data]    |   Package mac_morpho is already up-to-date!\n",
      "[nltk_data]    | Downloading package machado to ../nltk...\n",
      "[nltk_data]    |   Package machado is already up-to-date!\n",
      "[nltk_data]    | Downloading package masc_tagged to ../nltk...\n",
      "[nltk_data]    |   Package masc_tagged is already up-to-date!\n",
      "[nltk_data]    | Downloading package moses_sample to ../nltk...\n",
      "[nltk_data]    |   Package moses_sample is already up-to-date!\n",
      "[nltk_data]    | Downloading package movie_reviews to ../nltk...\n",
      "[nltk_data]    |   Package movie_reviews is already up-to-date!\n",
      "[nltk_data]    | Downloading package names to ../nltk...\n",
      "[nltk_data]    |   Package names is already up-to-date!\n",
      "[nltk_data]    | Downloading package nombank.1.0 to ../nltk...\n",
      "[nltk_data]    |   Package nombank.1.0 is already up-to-date!\n",
      "[nltk_data]    | Downloading package nps_chat to ../nltk...\n",
      "[nltk_data]    |   Package nps_chat is already up-to-date!\n",
      "[nltk_data]    | Downloading package omw to ../nltk...\n",
      "[nltk_data]    |   Package omw is already up-to-date!\n",
      "[nltk_data]    | Downloading package opinion_lexicon to ../nltk...\n",
      "[nltk_data]    |   Package opinion_lexicon is already up-to-date!\n",
      "[nltk_data]    | Downloading package paradigms to ../nltk...\n",
      "[nltk_data]    |   Package paradigms is already up-to-date!\n",
      "[nltk_data]    | Downloading package pil to ../nltk...\n",
      "[nltk_data]    |   Package pil is already up-to-date!\n",
      "[nltk_data]    | Downloading package pl196x to ../nltk...\n",
      "[nltk_data]    |   Package pl196x is already up-to-date!\n",
      "[nltk_data]    | Downloading package ppattach to ../nltk...\n",
      "[nltk_data]    |   Package ppattach is already up-to-date!\n",
      "[nltk_data]    | Downloading package problem_reports to ../nltk...\n",
      "[nltk_data]    |   Package problem_reports is already up-to-date!\n",
      "[nltk_data]    | Downloading package propbank to ../nltk...\n",
      "[nltk_data]    |   Package propbank is already up-to-date!\n",
      "[nltk_data]    | Downloading package ptb to ../nltk...\n",
      "[nltk_data]    |   Package ptb is already up-to-date!\n",
      "[nltk_data]    | Downloading package product_reviews_1 to ../nltk...\n",
      "[nltk_data]    |   Package product_reviews_1 is already up-to-date!\n",
      "[nltk_data]    | Downloading package product_reviews_2 to ../nltk...\n",
      "[nltk_data]    |   Package product_reviews_2 is already up-to-date!\n",
      "[nltk_data]    | Downloading package pros_cons to ../nltk...\n",
      "[nltk_data]    |   Package pros_cons is already up-to-date!\n",
      "[nltk_data]    | Downloading package qc to ../nltk...\n",
      "[nltk_data]    |   Package qc is already up-to-date!\n",
      "[nltk_data]    | Downloading package reuters to ../nltk...\n",
      "[nltk_data]    |   Package reuters is already up-to-date!\n",
      "[nltk_data]    | Downloading package rte to ../nltk...\n",
      "[nltk_data]    |   Package rte is already up-to-date!\n",
      "[nltk_data]    | Downloading package semcor to ../nltk...\n",
      "[nltk_data]    |   Package semcor is already up-to-date!\n",
      "[nltk_data]    | Downloading package senseval to ../nltk...\n",
      "[nltk_data]    |   Package senseval is already up-to-date!\n",
      "[nltk_data]    | Downloading package sentiwordnet to ../nltk...\n",
      "[nltk_data]    |   Package sentiwordnet is already up-to-date!\n",
      "[nltk_data]    | Downloading package sentence_polarity to ../nltk...\n",
      "[nltk_data]    |   Package sentence_polarity is already up-to-date!\n",
      "[nltk_data]    | Downloading package shakespeare to ../nltk...\n",
      "[nltk_data]    |   Package shakespeare is already up-to-date!\n",
      "[nltk_data]    | Downloading package sinica_treebank to ../nltk...\n",
      "[nltk_data]    |   Package sinica_treebank is already up-to-date!\n",
      "[nltk_data]    | Downloading package smultron to ../nltk...\n",
      "[nltk_data]    |   Package smultron is already up-to-date!\n",
      "[nltk_data]    | Downloading package state_union to ../nltk...\n",
      "[nltk_data]    |   Package state_union is already up-to-date!\n",
      "[nltk_data]    | Downloading package stopwords to ../nltk...\n",
      "[nltk_data]    |   Package stopwords is already up-to-date!\n",
      "[nltk_data]    | Downloading package subjectivity to ../nltk...\n",
      "[nltk_data]    |   Package subjectivity is already up-to-date!\n",
      "[nltk_data]    | Downloading package swadesh to ../nltk...\n",
      "[nltk_data]    |   Package swadesh is already up-to-date!\n",
      "[nltk_data]    | Downloading package switchboard to ../nltk...\n",
      "[nltk_data]    |   Package switchboard is already up-to-date!\n",
      "[nltk_data]    | Downloading package timit to ../nltk...\n",
      "[nltk_data]    |   Package timit is already up-to-date!\n",
      "[nltk_data]    | Downloading package toolbox to ../nltk...\n",
      "[nltk_data]    |   Package toolbox is already up-to-date!\n",
      "[nltk_data]    | Downloading package treebank to ../nltk...\n",
      "[nltk_data]    |   Package treebank is already up-to-date!\n",
      "[nltk_data]    | Downloading package twitter_samples to ../nltk...\n",
      "[nltk_data]    |   Package twitter_samples is already up-to-date!\n",
      "[nltk_data]    | Downloading package udhr to ../nltk...\n",
      "[nltk_data]    |   Package udhr is already up-to-date!\n",
      "[nltk_data]    | Downloading package udhr2 to ../nltk...\n",
      "[nltk_data]    |   Package udhr2 is already up-to-date!\n",
      "[nltk_data]    | Downloading package unicode_samples to ../nltk...\n",
      "[nltk_data]    |   Package unicode_samples is already up-to-date!\n",
      "[nltk_data]    | Downloading package universal_treebanks_v20 to\n",
      "[nltk_data]    |     ../nltk...\n",
      "[nltk_data]    |   Package universal_treebanks_v20 is already up-to-\n",
      "[nltk_data]    |       date!\n",
      "[nltk_data]    | Downloading package verbnet to ../nltk...\n",
      "[nltk_data]    |   Package verbnet is already up-to-date!\n",
      "[nltk_data]    | Downloading package verbnet3 to ../nltk...\n",
      "[nltk_data]    |   Package verbnet3 is already up-to-date!\n",
      "[nltk_data]    | Downloading package webtext to ../nltk...\n",
      "[nltk_data]    |   Package webtext is already up-to-date!\n",
      "[nltk_data]    | Downloading package wordnet to ../nltk...\n",
      "[nltk_data]    |   Package wordnet is already up-to-date!\n",
      "[nltk_data]    | Downloading package wordnet_ic to ../nltk...\n",
      "[nltk_data]    |   Package wordnet_ic is already up-to-date!\n",
      "[nltk_data]    | Downloading package words to ../nltk...\n",
      "[nltk_data]    |   Package words is already up-to-date!\n",
      "[nltk_data]    | Downloading package ycoe to ../nltk...\n",
      "[nltk_data]    |   Package ycoe is already up-to-date!\n",
      "[nltk_data]    | Downloading package rslp to ../nltk...\n",
      "[nltk_data]    |   Package rslp is already up-to-date!\n",
      "[nltk_data]    | Downloading package maxent_treebank_pos_tagger to\n",
      "[nltk_data]    |     ../nltk...\n",
      "[nltk_data]    |   Package maxent_treebank_pos_tagger is already up-\n",
      "[nltk_data]    |       to-date!\n",
      "[nltk_data]    | Downloading package universal_tagset to ../nltk...\n",
      "[nltk_data]    |   Package universal_tagset is already up-to-date!\n",
      "[nltk_data]    | Downloading package maxent_ne_chunker to ../nltk...\n",
      "[nltk_data]    |   Package maxent_ne_chunker is already up-to-date!\n",
      "[nltk_data]    | Downloading package punkt to ../nltk...\n",
      "[nltk_data]    |   Package punkt is already up-to-date!\n",
      "[nltk_data]    | Downloading package book_grammars to ../nltk...\n",
      "[nltk_data]    |   Package book_grammars is already up-to-date!\n",
      "[nltk_data]    | Downloading package sample_grammars to ../nltk...\n",
      "[nltk_data]    |   Package sample_grammars is already up-to-date!\n",
      "[nltk_data]    | Downloading package spanish_grammars to ../nltk...\n",
      "[nltk_data]    |   Package spanish_grammars is already up-to-date!\n",
      "[nltk_data]    | Downloading package basque_grammars to ../nltk...\n",
      "[nltk_data]    |   Package basque_grammars is already up-to-date!\n",
      "[nltk_data]    | Downloading package large_grammars to ../nltk...\n",
      "[nltk_data]    |   Package large_grammars is already up-to-date!\n",
      "[nltk_data]    | Downloading package tagsets to ../nltk...\n",
      "[nltk_data]    |   Package tagsets is already up-to-date!\n",
      "[nltk_data]    | Downloading package snowball_data to ../nltk...\n",
      "[nltk_data]    |   Package snowball_data is already up-to-date!\n",
      "[nltk_data]    | Downloading package bllip_wsj_no_aux to ../nltk...\n",
      "[nltk_data]    |   Package bllip_wsj_no_aux is already up-to-date!\n",
      "[nltk_data]    | Downloading package word2vec_sample to ../nltk...\n",
      "[nltk_data]    |   Package word2vec_sample is already up-to-date!\n",
      "[nltk_data]    | Downloading package panlex_swadesh to ../nltk...\n",
      "[nltk_data]    |   Package panlex_swadesh is already up-to-date!\n",
      "[nltk_data]    | Downloading package mte_teip5 to ../nltk...\n",
      "[nltk_data]    |   Package mte_teip5 is already up-to-date!\n",
      "[nltk_data]    | Downloading package averaged_perceptron_tagger to\n",
      "[nltk_data]    |     ../nltk...\n",
      "[nltk_data]    |   Package averaged_perceptron_tagger is already up-\n",
      "[nltk_data]    |       to-date!\n",
      "[nltk_data]    | Downloading package averaged_perceptron_tagger_ru to\n",
      "[nltk_data]    |     ../nltk...\n",
      "[nltk_data]    |   Package averaged_perceptron_tagger_ru is already\n",
      "[nltk_data]    |       up-to-date!\n",
      "[nltk_data]    | Downloading package perluniprops to ../nltk...\n",
      "[nltk_data]    |   Package perluniprops is already up-to-date!\n",
      "[nltk_data]    | Downloading package nonbreaking_prefixes to\n",
      "[nltk_data]    |     ../nltk...\n",
      "[nltk_data]    |   Package nonbreaking_prefixes is already up-to-date!\n",
      "[nltk_data]    | Downloading package vader_lexicon to ../nltk...\n",
      "[nltk_data]    |   Package vader_lexicon is already up-to-date!\n",
      "[nltk_data]    | Downloading package porter_test to ../nltk...\n",
      "[nltk_data]    |   Package porter_test is already up-to-date!\n",
      "[nltk_data]    | Downloading package wmt15_eval to ../nltk...\n",
      "[nltk_data]    |   Package wmt15_eval is already up-to-date!\n",
      "[nltk_data]    | Downloading package mwa_ppdb to ../nltk...\n",
      "[nltk_data]    |   Package mwa_ppdb is already up-to-date!\n",
      "[nltk_data]    | \n",
      "[nltk_data]  Done downloading collection all\n"
     ]
    }
   ],
   "source": [
    "import nltk \n",
    "nltk.download(\"all\", download_dir='../nltk')\n",
    "nltk.data.path.append(\"../../nltk\")"
   ]
  },
  {
   "cell_type": "code",
   "execution_count": 16,
   "metadata": {},
   "outputs": [
    {
     "name": "stdout",
     "output_type": "stream",
     "text": [
      "Vice President Johnson, Mr. Speaker, Mr. Chief Justice, President Eisenhower, Vice president Nixon, President Truman, Reverend Clergy, fellow citizens:We observe today not a victory of party but a celebration of freedom--symbolizing an end as well as a beginning--signifying renewal as well as change.\n",
      "For I have sworn before you and Almighty God the same solemn oath our forebears prescribed nearly a century and three quarters ago.\n",
      "The world is very different now.\n",
      "For man holds in his mortal hands the power to abolish all forms of human poverty and all forms of human life.\n",
      "And yet the same revolutionary beliefs for which our forebears fought are still at issue around the globe--the belief that the rights of man come not from the generosity of the state but from the hand of God.\n",
      "We dare not forget today that we are the heirs of that first revolution.\n",
      "Let the word go forth from this time and place, to friend and foe alike, that the torch has been passed to a new generation of Americans--born in this century, tempered by war, disciplined by a hard and bitter peace, proud of our ancient heritage--and unwilling to witness or permit the slow undoing of those human rights to which this nation has always been committed, and to which we are committed today at home and around the world.\n",
      "Let every nation know, whether it wishes us well or ill, that we shall pay any price, bear any burden, meet any hardship, support any friend, oppose any foe to assure the survival and the success of liberty.\n",
      "This much we pledge--and more.\n",
      "To those old allies whose cultural and spiritual origins we share, we pledge the loyalty of faithful friends.\n",
      "United, there is little we cannot do in a host of cooperative ventures.\n",
      "Divided, there is little we can do--for we dare not meet a powerful challenge at odds and split asunder.\n",
      "To those new states whom we welcome to the ranks of the free, we pledge our word that one form of colonial control shall not have passed away merely to be replaced by a far more iron tyranny.\n",
      "We shall not always expect to find them supporting our view.\n",
      "But we shall always hope to find them strongly supporting their own freedom-and to remember that, in the past, those who foolishly sought power by riding the back of the tiger ended up inside.\n",
      "To those peoples in the huts and villages of half the globe struggling to break the bonds of mass misery, we pledge our best efforts to help them help themselves, for whatever period is required--not because the communists may be doing it, not because we seek their votes, but because it is right.\n",
      "If a free society cannot help the many who are poor, it cannot save the few who are rich.\n",
      "To our sister republics south of our border, we offer a special pledge--to convert our good words into good deeds--in a new alliance for progress--to assist free men and free governments in casting off the chains of poverty.\n",
      "But this peaceful revolution of hope cannot become the prey of hostile powers.\n",
      "Let all our neighbors know that we shall join with them to oppose aggression or subversion anywhere in the Americas.\n",
      "And let every other power know that this Hemisphere intends to remain the master of its own house.\n",
      "To that world assembly of sovereign states, the United Nations, our last best hope in an age where the instruments of war have far outpaced the instruments of peace, we renew our pledge of support--to prevent it from becoming merely a forum for invective--to strengthen its shield of the new and the weak--and to enlarge the area in which its writ may run.\n",
      "Finally, to those nations who would make themselves our adversary, we offer not a pledge but a request: that both sides begin anew the quest for peace, before the dark powers of destruction unleashed by science engulf all humanity in planned or accidental self-destruction.\n",
      "We dare not tempt them with weakness.\n",
      "For only when our arms are sufficient beyond doubt can we be certain beyond doubt that they will never be employed.\n",
      "But neither can two great and powerful groups of nations take comfort from our present course--both sides overburdened by the cost of modern weapons, both rightly alarmed by the steady spread of the deadly atom, yet both racing to alter that uncertain balance of terror that stays the hand of mankind's final war.\n",
      "So let us begin anew--remembering on both sides that civility is not a sign of weakness, and sincerity is always subject to proof.\n",
      "Let us never negotiate out of fear.\n",
      "But let us never fear to negotiate.\n",
      "Let both sides explore what problems unite us instead of belaboring those problems which divide us.\n",
      "Let both sides, for the first time, formulate serious and precise proposals for the inspection and control of arms--and bring the absolute power to destroy other nations under the absolute control of all nations.\n",
      "Let both sides seek to invoke the wonders of science instead of its terrors.\n",
      "Together let us explore the stars, conquer the deserts, eradicate disease, tap the ocean depths and encourage the arts and commerce.\n",
      "Let both sides unite to heed in all corners of the earth the command of Isaiah--to \"undo the heavy burdens .\n",
      ".\n",
      ".\n",
      "(and) let the oppressed go free.\"\n",
      "And if a beach-head of cooperation may push back the jungle of suspicion, let both sides join in creating a new endeavor, not a new balance of power, but a new world of law, where the strong are just and the weak secure and the peace preserved.\n",
      "All this will not be finished in the first one hundred days.\n",
      "Nor will it be finished in the first one thousand days, nor in the life of this Administration, nor even perhaps in our lifetime on this planet.\n",
      "But let us begin.\n",
      "In your hands, my fellow citizens, more than mine, will rest the final success or failure of our course.\n",
      "Since this country was founded, each generation of Americans has been summoned to give testimony to its national loyalty.\n",
      "The graves of young Americans who answered the call to service surround the globe.\n",
      "Now the trumpet summons us again-not as a call to bear arms, though arms we need--not as a call to battle, though embattled we are--but a call to bear the burden of a long twilight struggle, year in and year out, \"rejoicing in hope, patient in tribulation\"--a struggle against the common enemies of man: tyranny, poverty, disease and war itself.\n",
      "Can we forge against these enemies a grand and global alliance, North and South, East and West, that can assure a more fruitful life for all mankind?\n",
      "Will you join in that historic effort?\n",
      "In the long history of the world, only a few generations have been granted the role of defending freedom in its hour of maximum danger.\n",
      "I do not shrink from this responsibility--I welcome it.\n",
      "I do not believe that any of us would exchange places with any other people or any other generation.\n",
      "The energy, the faith, the devotion which we bring to this endeavor will light our country and all who serve it--and the glow from that fire can truly light the world.\n",
      "And so, my fellow Americans: ask not what your country can do for you--ask what you can do for your country.\n",
      "My fellow citizens of the world: ask not what America will do for you, but what together we can do for the freedom of man.\n",
      "Finally, whether you are citizens of America or citizens of the world, ask of us here the same high standards of strength and sacrifice which we ask of you.\n",
      "With a good conscience our only sure reward, with history the final judge of our deeds, let us go forth to lead the land we love, asking His blessing and His help, but knowing that here on earth God's work must truly be our own.\n"
     ]
    }
   ],
   "source": [
    "sentences = nltk.sent_tokenize(text)\n",
    "for sentence in sentences: \n",
    "    sentence = sentence.replace(\"\\n\", \"\")\n",
    "    print(sentence)"
   ]
  },
  {
   "cell_type": "code",
   "execution_count": 22,
   "metadata": {},
   "outputs": [
    {
     "name": "stdout",
     "output_type": "stream",
     "text": [
      "['Vice', 'President', 'Johnson', ',', 'Mr.', 'Speaker', ',', 'Mr.', 'Chief', 'Justice', ',', 'President', 'Eisenhower', ',', 'Vice', 'president', 'Nixon', ',', 'President', 'Truman', ',', 'Reverend', 'Clergy', ',', 'fellow', 'citizens', ':', 'We', 'observe', 'today', 'not', 'a', 'victory', 'of', 'party', 'but', 'a', 'celebration', 'of', 'freedom', '--', 'symbolizing', 'an', 'end', 'as', 'well', 'as', 'a', 'beginning', '--', 'signifying', 'renewal', 'as', 'well', 'as', 'change', '.', 'For', 'I', 'have', 'sworn', 'before', 'you', 'and', 'Almighty', 'God', 'the', 'same', 'solemn', 'oath', 'our', 'forebears', 'prescribed', 'nearly', 'a', 'century', 'and', 'three', 'quarters', 'ago', '.', 'The', 'world', 'is', 'very', 'different', 'now', '.', 'For', 'man', 'holds', 'in', 'his', 'mortal', 'hands', 'the', 'power', 'to', 'abolish', 'all', 'forms', 'of', 'human', 'poverty', 'and', 'all', 'forms', 'of', 'human', 'life', '.', 'And', 'yet', 'the', 'same', 'revolutionary', 'beliefs', 'for', 'which', 'our', 'forebears', 'fought', 'are', 'still', 'at', 'issue', 'around', 'the', 'globe', '--', 'the', 'belief', 'that', 'the', 'rights', 'of', 'man', 'come', 'not', 'from', 'the', 'generosity', 'of', 'the', 'state', 'but', 'from', 'the', 'hand', 'of', 'God', '.', 'We', 'dare', 'not', 'forget', 'today', 'that', 'we', 'are', 'the', 'heirs', 'of', 'that', 'first', 'revolution', '.', 'Let', 'the', 'word', 'go', 'forth', 'from', 'this', 'time', 'and', 'place', ',', 'to', 'friend', 'and', 'foe', 'alike', ',', 'that', 'the', 'torch', 'has', 'been', 'passed', 'to', 'a', 'new', 'generation', 'of', 'Americans', '--', 'born', 'in', 'this', 'century', ',', 'tempered', 'by', 'war', ',', 'disciplined', 'by', 'a', 'hard', 'and', 'bitter', 'peace', ',', 'proud', 'of', 'our', 'ancient', 'heritage', '--', 'and', 'unwilling', 'to', 'witness', 'or', 'permit', 'the', 'slow', 'undoing', 'of', 'those', 'human', 'rights', 'to', 'which', 'this', 'nation', 'has', 'always', 'been', 'committed', ',', 'and', 'to', 'which', 'we', 'are', 'committed', 'today', 'at', 'home', 'and', 'around', 'the', 'world', '.', 'Let', 'every', 'nation', 'know', ',', 'whether', 'it', 'wishes', 'us', 'well', 'or', 'ill', ',', 'that', 'we', 'shall', 'pay', 'any', 'price', ',', 'bear', 'any', 'burden', ',', 'meet', 'any', 'hardship', ',', 'support', 'any', 'friend', ',', 'oppose', 'any', 'foe', 'to', 'assure', 'the', 'survival', 'and', 'the', 'success', 'of', 'liberty', '.', 'This', 'much', 'we', 'pledge', '--', 'and', 'more', '.', 'To', 'those', 'old', 'allies', 'whose', 'cultural', 'and', 'spiritual', 'origins', 'we', 'share', ',', 'we', 'pledge', 'the', 'loyalty', 'of', 'faithful', 'friends', '.', 'United', ',', 'there', 'is', 'little', 'we', 'can', 'not', 'do', 'in', 'a', 'host', 'of', 'cooperative', 'ventures', '.', 'Divided', ',', 'there', 'is', 'little', 'we', 'can', 'do', '--', 'for', 'we', 'dare', 'not', 'meet', 'a', 'powerful', 'challenge', 'at', 'odds', 'and', 'split', 'asunder', '.', 'To', 'those', 'new', 'states', 'whom', 'we', 'welcome', 'to', 'the', 'ranks', 'of', 'the', 'free', ',', 'we', 'pledge', 'our', 'word', 'that', 'one', 'form', 'of', 'colonial', 'control', 'shall', 'not', 'have', 'passed', 'away', 'merely', 'to', 'be', 'replaced', 'by', 'a', 'far', 'more', 'iron', 'tyranny', '.', 'We', 'shall', 'not', 'always', 'expect', 'to', 'find', 'them', 'supporting', 'our', 'view', '.', 'But', 'we', 'shall', 'always', 'hope', 'to', 'find', 'them', 'strongly', 'supporting', 'their', 'own', 'freedom-and', 'to', 'remember', 'that', ',', 'in', 'the', 'past', ',', 'those', 'who', 'foolishly', 'sought', 'power', 'by', 'riding', 'the', 'back', 'of', 'the', 'tiger', 'ended', 'up', 'inside', '.', 'To', 'those', 'peoples', 'in', 'the', 'huts', 'and', 'villages', 'of', 'half', 'the', 'globe', 'struggling', 'to', 'break', 'the', 'bonds', 'of', 'mass', 'misery', ',', 'we', 'pledge', 'our', 'best', 'efforts', 'to', 'help', 'them', 'help', 'themselves', ',', 'for', 'whatever', 'period', 'is', 'required', '--', 'not', 'because', 'the', 'communists', 'may', 'be', 'doing', 'it', ',', 'not', 'because', 'we', 'seek', 'their', 'votes', ',', 'but', 'because', 'it', 'is', 'right', '.', 'If', 'a', 'free', 'society', 'can', 'not', 'help', 'the', 'many', 'who', 'are', 'poor', ',', 'it', 'can', 'not', 'save', 'the', 'few', 'who', 'are', 'rich', '.', 'To', 'our', 'sister', 'republics', 'south', 'of', 'our', 'border', ',', 'we', 'offer', 'a', 'special', 'pledge', '--', 'to', 'convert', 'our', 'good', 'words', 'into', 'good', 'deeds', '--', 'in', 'a', 'new', 'alliance', 'for', 'progress', '--', 'to', 'assist', 'free', 'men', 'and', 'free', 'governments', 'in', 'casting', 'off', 'the', 'chains', 'of', 'poverty', '.', 'But', 'this', 'peaceful', 'revolution', 'of', 'hope', 'can', 'not', 'become', 'the', 'prey', 'of', 'hostile', 'powers', '.', 'Let', 'all', 'our', 'neighbors', 'know', 'that', 'we', 'shall', 'join', 'with', 'them', 'to', 'oppose', 'aggression', 'or', 'subversion', 'anywhere', 'in', 'the', 'Americas', '.', 'And', 'let', 'every', 'other', 'power', 'know', 'that', 'this', 'Hemisphere', 'intends', 'to', 'remain', 'the', 'master', 'of', 'its', 'own', 'house', '.', 'To', 'that', 'world', 'assembly', 'of', 'sovereign', 'states', ',', 'the', 'United', 'Nations', ',', 'our', 'last', 'best', 'hope', 'in', 'an', 'age', 'where', 'the', 'instruments', 'of', 'war', 'have', 'far', 'outpaced', 'the', 'instruments', 'of', 'peace', ',', 'we', 'renew', 'our', 'pledge', 'of', 'support', '--', 'to', 'prevent', 'it', 'from', 'becoming', 'merely', 'a', 'forum', 'for', 'invective', '--', 'to', 'strengthen', 'its', 'shield', 'of', 'the', 'new', 'and', 'the', 'weak', '--', 'and', 'to', 'enlarge', 'the', 'area', 'in', 'which', 'its', 'writ', 'may', 'run', '.', 'Finally', ',', 'to', 'those', 'nations', 'who', 'would', 'make', 'themselves', 'our', 'adversary', ',', 'we', 'offer', 'not', 'a', 'pledge', 'but', 'a', 'request', ':', 'that', 'both', 'sides', 'begin', 'anew', 'the', 'quest', 'for', 'peace', ',', 'before', 'the', 'dark', 'powers', 'of', 'destruction', 'unleashed', 'by', 'science', 'engulf', 'all', 'humanity', 'in', 'planned', 'or', 'accidental', 'self-destruction', '.', 'We', 'dare', 'not', 'tempt', 'them', 'with', 'weakness', '.', 'For', 'only', 'when', 'our', 'arms', 'are', 'sufficient', 'beyond', 'doubt', 'can', 'we', 'be', 'certain', 'beyond', 'doubt', 'that', 'they', 'will', 'never', 'be', 'employed', '.', 'But', 'neither', 'can', 'two', 'great', 'and', 'powerful', 'groups', 'of', 'nations', 'take', 'comfort', 'from', 'our', 'present', 'course', '--', 'both', 'sides', 'overburdened', 'by', 'the', 'cost', 'of', 'modern', 'weapons', ',', 'both', 'rightly', 'alarmed', 'by', 'the', 'steady', 'spread', 'of', 'the', 'deadly', 'atom', ',', 'yet', 'both', 'racing', 'to', 'alter', 'that', 'uncertain', 'balance', 'of', 'terror', 'that', 'stays', 'the', 'hand', 'of', 'mankind', \"'s\", 'final', 'war', '.', 'So', 'let', 'us', 'begin', 'anew', '--', 'remembering', 'on', 'both', 'sides', 'that', 'civility', 'is', 'not', 'a', 'sign', 'of', 'weakness', ',', 'and', 'sincerity', 'is', 'always', 'subject', 'to', 'proof', '.', 'Let', 'us', 'never', 'negotiate', 'out', 'of', 'fear', '.', 'But', 'let', 'us', 'never', 'fear', 'to', 'negotiate', '.', 'Let', 'both', 'sides', 'explore', 'what', 'problems', 'unite', 'us', 'instead', 'of', 'belaboring', 'those', 'problems', 'which', 'divide', 'us', '.', 'Let', 'both', 'sides', ',', 'for', 'the', 'first', 'time', ',', 'formulate', 'serious', 'and', 'precise', 'proposals', 'for', 'the', 'inspection', 'and', 'control', 'of', 'arms', '--', 'and', 'bring', 'the', 'absolute', 'power', 'to', 'destroy', 'other', 'nations', 'under', 'the', 'absolute', 'control', 'of', 'all', 'nations', '.', 'Let', 'both', 'sides', 'seek', 'to', 'invoke', 'the', 'wonders', 'of', 'science', 'instead', 'of', 'its', 'terrors', '.', 'Together', 'let', 'us', 'explore', 'the', 'stars', ',', 'conquer', 'the', 'deserts', ',', 'eradicate', 'disease', ',', 'tap', 'the', 'ocean', 'depths', 'and', 'encourage', 'the', 'arts', 'and', 'commerce', '.', 'Let', 'both', 'sides', 'unite', 'to', 'heed', 'in', 'all', 'corners', 'of', 'the', 'earth', 'the', 'command', 'of', 'Isaiah', '--', 'to', '``', 'undo', 'the', 'heavy', 'burdens', '.', '.', '.', '(', 'and', ')', 'let', 'the', 'oppressed', 'go', 'free', '.', \"''\", 'And', 'if', 'a', 'beach-head', 'of', 'cooperation', 'may', 'push', 'back', 'the', 'jungle', 'of', 'suspicion', ',', 'let', 'both', 'sides', 'join', 'in', 'creating', 'a', 'new', 'endeavor', ',', 'not', 'a', 'new', 'balance', 'of', 'power', ',', 'but', 'a', 'new', 'world', 'of', 'law', ',', 'where', 'the', 'strong', 'are', 'just', 'and', 'the', 'weak', 'secure', 'and', 'the', 'peace', 'preserved', '.', 'All', 'this', 'will', 'not', 'be', 'finished', 'in', 'the', 'first', 'one', 'hundred', 'days', '.', 'Nor', 'will', 'it', 'be', 'finished', 'in', 'the', 'first', 'one', 'thousand', 'days', ',', 'nor', 'in', 'the', 'life', 'of', 'this', 'Administration', ',', 'nor', 'even', 'perhaps', 'in', 'our', 'lifetime', 'on', 'this', 'planet', '.', 'But', 'let', 'us', 'begin', '.', 'In', 'your', 'hands', ',', 'my', 'fellow', 'citizens', ',', 'more', 'than', 'mine', ',', 'will', 'rest', 'the', 'final', 'success', 'or', 'failure', 'of', 'our', 'course', '.', 'Since', 'this', 'country', 'was', 'founded', ',', 'each', 'generation', 'of', 'Americans', 'has', 'been', 'summoned', 'to', 'give', 'testimony', 'to', 'its', 'national', 'loyalty', '.', 'The', 'graves', 'of', 'young', 'Americans', 'who', 'answered', 'the', 'call', 'to', 'service', 'surround', 'the', 'globe', '.', 'Now', 'the', 'trumpet', 'summons', 'us', 'again-not', 'as', 'a', 'call', 'to', 'bear', 'arms', ',', 'though', 'arms', 'we', 'need', '--', 'not', 'as', 'a', 'call', 'to', 'battle', ',', 'though', 'embattled', 'we', 'are', '--', 'but', 'a', 'call', 'to', 'bear', 'the', 'burden', 'of', 'a', 'long', 'twilight', 'struggle', ',', 'year', 'in', 'and', 'year', 'out', ',', '``', 'rejoicing', 'in', 'hope', ',', 'patient', 'in', 'tribulation', \"''\", '--', 'a', 'struggle', 'against', 'the', 'common', 'enemies', 'of', 'man', ':', 'tyranny', ',', 'poverty', ',', 'disease', 'and', 'war', 'itself', '.', 'Can', 'we', 'forge', 'against', 'these', 'enemies', 'a', 'grand', 'and', 'global', 'alliance', ',', 'North', 'and', 'South', ',', 'East', 'and', 'West', ',', 'that', 'can', 'assure', 'a', 'more', 'fruitful', 'life', 'for', 'all', 'mankind', '?', 'Will', 'you', 'join', 'in', 'that', 'historic', 'effort', '?', 'In', 'the', 'long', 'history', 'of', 'the', 'world', ',', 'only', 'a', 'few', 'generations', 'have', 'been', 'granted', 'the', 'role', 'of', 'defending', 'freedom', 'in', 'its', 'hour', 'of', 'maximum', 'danger', '.', 'I', 'do', 'not', 'shrink', 'from', 'this', 'responsibility', '--', 'I', 'welcome', 'it', '.', 'I', 'do', 'not', 'believe', 'that', 'any', 'of', 'us', 'would', 'exchange', 'places', 'with', 'any', 'other', 'people', 'or', 'any', 'other', 'generation', '.', 'The', 'energy', ',', 'the', 'faith', ',', 'the', 'devotion', 'which', 'we', 'bring', 'to', 'this', 'endeavor', 'will', 'light', 'our', 'country', 'and', 'all', 'who', 'serve', 'it', '--', 'and', 'the', 'glow', 'from', 'that', 'fire', 'can', 'truly', 'light', 'the', 'world', '.', 'And', 'so', ',', 'my', 'fellow', 'Americans', ':', 'ask', 'not', 'what', 'your', 'country', 'can', 'do', 'for', 'you', '--', 'ask', 'what', 'you', 'can', 'do', 'for', 'your', 'country', '.', 'My', 'fellow', 'citizens', 'of', 'the', 'world', ':', 'ask', 'not', 'what', 'America', 'will', 'do', 'for', 'you', ',', 'but', 'what', 'together', 'we', 'can', 'do', 'for', 'the', 'freedom', 'of', 'man', '.', 'Finally', ',', 'whether', 'you', 'are', 'citizens', 'of', 'America', 'or', 'citizens', 'of', 'the', 'world', ',', 'ask', 'of', 'us', 'here', 'the', 'same', 'high', 'standards', 'of', 'strength', 'and', 'sacrifice', 'which', 'we', 'ask', 'of', 'you', '.', 'With', 'a', 'good', 'conscience', 'our', 'only', 'sure', 'reward', ',', 'with', 'history', 'the', 'final', 'judge', 'of', 'our', 'deeds', ',', 'let', 'us', 'go', 'forth', 'to', 'lead', 'the', 'land', 'we', 'love', ',', 'asking', 'His', 'blessing', 'and', 'His', 'help', ',', 'but', 'knowing', 'that', 'here', 'on', 'earth', 'God', \"'s\", 'work', 'must', 'truly', 'be', 'our', 'own', '.']\n"
     ]
    }
   ],
   "source": [
    "words = []\n",
    "for sentence in sentences:\n",
    "    word = nltk.word_tokenize(sentence)\n",
    "    words.extend(word)\n",
    "print(words)"
   ]
  },
  {
   "cell_type": "code",
   "execution_count": 23,
   "metadata": {},
   "outputs": [
    {
     "name": "stdout",
     "output_type": "stream",
     "text": [
      "['Vice', 'President', 'Johnson', 'Speaker', 'Chief', 'Justice', 'President', 'Eisenhower', 'Vice', 'president', 'Nixon', 'President', 'Truman', 'Reverend', 'Clergy', 'fellow', 'citizens', 'We', 'observe', 'today', 'not', 'a', 'victory', 'of', 'party', 'but', 'a', 'celebration', 'of', 'freedom', 'symbolizing', 'an', 'end', 'as', 'well', 'as', 'a', 'beginning', 'signifying', 'renewal', 'as', 'well', 'as', 'change', 'For', 'I', 'have', 'sworn', 'before', 'you', 'and', 'Almighty', 'God', 'the', 'same', 'solemn', 'oath', 'our', 'forebears', 'prescribed', 'nearly', 'a', 'century', 'and', 'three', 'quarters', 'ago', 'The', 'world', 'is', 'very', 'different', 'now', 'For', 'man', 'holds', 'in', 'his', 'mortal', 'hands', 'the', 'power', 'to', 'abolish', 'all', 'forms', 'of', 'human', 'poverty', 'and', 'all', 'forms', 'of', 'human', 'life', 'And', 'yet', 'the', 'same', 'revolutionary', 'beliefs', 'for', 'which', 'our', 'forebears', 'fought', 'are', 'still', 'at', 'issue', 'around', 'the', 'globe', 'the', 'belief', 'that', 'the', 'rights', 'of', 'man', 'come', 'not', 'from', 'the', 'generosity', 'of', 'the', 'state', 'but', 'from', 'the', 'hand', 'of', 'God', 'We', 'dare', 'not', 'forget', 'today', 'that', 'we', 'are', 'the', 'heirs', 'of', 'that', 'first', 'revolution', 'Let', 'the', 'word', 'go', 'forth', 'from', 'this', 'time', 'and', 'place', 'to', 'friend', 'and', 'foe', 'alike', 'that', 'the', 'torch', 'has', 'been', 'passed', 'to', 'a', 'new', 'generation', 'of', 'Americans', 'born', 'in', 'this', 'century', 'tempered', 'by', 'war', 'disciplined', 'by', 'a', 'hard', 'and', 'bitter', 'peace', 'proud', 'of', 'our', 'ancient', 'heritage', 'and', 'unwilling', 'to', 'witness', 'or', 'permit', 'the', 'slow', 'undoing', 'of', 'those', 'human', 'rights', 'to', 'which', 'this', 'nation', 'has', 'always', 'been', 'committed', 'and', 'to', 'which', 'we', 'are', 'committed', 'today', 'at', 'home', 'and', 'around', 'the', 'world', 'Let', 'every', 'nation', 'know', 'whether', 'it', 'wishes', 'us', 'well', 'or', 'ill', 'that', 'we', 'shall', 'pay', 'any', 'price', 'bear', 'any', 'burden', 'meet', 'any', 'hardship', 'support', 'any', 'friend', 'oppose', 'any', 'foe', 'to', 'assure', 'the', 'survival', 'and', 'the', 'success', 'of', 'liberty', 'This', 'much', 'we', 'pledge', 'and', 'more', 'To', 'those', 'old', 'allies', 'whose', 'cultural', 'and', 'spiritual', 'origins', 'we', 'share', 'we', 'pledge', 'the', 'loyalty', 'of', 'faithful', 'friends', 'United', 'there', 'is', 'little', 'we', 'can', 'not', 'do', 'in', 'a', 'host', 'of', 'cooperative', 'ventures', 'Divided', 'there', 'is', 'little', 'we', 'can', 'do', 'for', 'we', 'dare', 'not', 'meet', 'a', 'powerful', 'challenge', 'at', 'odds', 'and', 'split', 'asunder', 'To', 'those', 'new', 'states', 'whom', 'we', 'welcome', 'to', 'the', 'ranks', 'of', 'the', 'free', 'we', 'pledge', 'our', 'word', 'that', 'one', 'form', 'of', 'colonial', 'control', 'shall', 'not', 'have', 'passed', 'away', 'merely', 'to', 'be', 'replaced', 'by', 'a', 'far', 'more', 'iron', 'tyranny', 'We', 'shall', 'not', 'always', 'expect', 'to', 'find', 'them', 'supporting', 'our', 'view', 'But', 'we', 'shall', 'always', 'hope', 'to', 'find', 'them', 'strongly', 'supporting', 'their', 'own', 'to', 'remember', 'that', 'in', 'the', 'past', 'those', 'who', 'foolishly', 'sought', 'power', 'by', 'riding', 'the', 'back', 'of', 'the', 'tiger', 'ended', 'up', 'inside', 'To', 'those', 'peoples', 'in', 'the', 'huts', 'and', 'villages', 'of', 'half', 'the', 'globe', 'struggling', 'to', 'break', 'the', 'bonds', 'of', 'mass', 'misery', 'we', 'pledge', 'our', 'best', 'efforts', 'to', 'help', 'them', 'help', 'themselves', 'for', 'whatever', 'period', 'is', 'required', 'not', 'because', 'the', 'communists', 'may', 'be', 'doing', 'it', 'not', 'because', 'we', 'seek', 'their', 'votes', 'but', 'because', 'it', 'is', 'right', 'If', 'a', 'free', 'society', 'can', 'not', 'help', 'the', 'many', 'who', 'are', 'poor', 'it', 'can', 'not', 'save', 'the', 'few', 'who', 'are', 'rich', 'To', 'our', 'sister', 'republics', 'south', 'of', 'our', 'border', 'we', 'offer', 'a', 'special', 'pledge', 'to', 'convert', 'our', 'good', 'words', 'into', 'good', 'deeds', 'in', 'a', 'new', 'alliance', 'for', 'progress', 'to', 'assist', 'free', 'men', 'and', 'free', 'governments', 'in', 'casting', 'off', 'the', 'chains', 'of', 'poverty', 'But', 'this', 'peaceful', 'revolution', 'of', 'hope', 'can', 'not', 'become', 'the', 'prey', 'of', 'hostile', 'powers', 'Let', 'all', 'our', 'neighbors', 'know', 'that', 'we', 'shall', 'join', 'with', 'them', 'to', 'oppose', 'aggression', 'or', 'subversion', 'anywhere', 'in', 'the', 'Americas', 'And', 'let', 'every', 'other', 'power', 'know', 'that', 'this', 'Hemisphere', 'intends', 'to', 'remain', 'the', 'master', 'of', 'its', 'own', 'house', 'To', 'that', 'world', 'assembly', 'of', 'sovereign', 'states', 'the', 'United', 'Nations', 'our', 'last', 'best', 'hope', 'in', 'an', 'age', 'where', 'the', 'instruments', 'of', 'war', 'have', 'far', 'outpaced', 'the', 'instruments', 'of', 'peace', 'we', 'renew', 'our', 'pledge', 'of', 'support', 'to', 'prevent', 'it', 'from', 'becoming', 'merely', 'a', 'forum', 'for', 'invective', 'to', 'strengthen', 'its', 'shield', 'of', 'the', 'new', 'and', 'the', 'weak', 'and', 'to', 'enlarge', 'the', 'area', 'in', 'which', 'its', 'writ', 'may', 'run', 'Finally', 'to', 'those', 'nations', 'who', 'would', 'make', 'themselves', 'our', 'adversary', 'we', 'offer', 'not', 'a', 'pledge', 'but', 'a', 'request', 'that', 'both', 'sides', 'begin', 'anew', 'the', 'quest', 'for', 'peace', 'before', 'the', 'dark', 'powers', 'of', 'destruction', 'unleashed', 'by', 'science', 'engulf', 'all', 'humanity', 'in', 'planned', 'or', 'accidental', 'We', 'dare', 'not', 'tempt', 'them', 'with', 'weakness', 'For', 'only', 'when', 'our', 'arms', 'are', 'sufficient', 'beyond', 'doubt', 'can', 'we', 'be', 'certain', 'beyond', 'doubt', 'that', 'they', 'will', 'never', 'be', 'employed', 'But', 'neither', 'can', 'two', 'great', 'and', 'powerful', 'groups', 'of', 'nations', 'take', 'comfort', 'from', 'our', 'present', 'course', 'both', 'sides', 'overburdened', 'by', 'the', 'cost', 'of', 'modern', 'weapons', 'both', 'rightly', 'alarmed', 'by', 'the', 'steady', 'spread', 'of', 'the', 'deadly', 'atom', 'yet', 'both', 'racing', 'to', 'alter', 'that', 'uncertain', 'balance', 'of', 'terror', 'that', 'stays', 'the', 'hand', 'of', 'mankind', 'final', 'war', 'So', 'let', 'us', 'begin', 'anew', 'remembering', 'on', 'both', 'sides', 'that', 'civility', 'is', 'not', 'a', 'sign', 'of', 'weakness', 'and', 'sincerity', 'is', 'always', 'subject', 'to', 'proof', 'Let', 'us', 'never', 'negotiate', 'out', 'of', 'fear', 'But', 'let', 'us', 'never', 'fear', 'to', 'negotiate', 'Let', 'both', 'sides', 'explore', 'what', 'problems', 'unite', 'us', 'instead', 'of', 'belaboring', 'those', 'problems', 'which', 'divide', 'us', 'Let', 'both', 'sides', 'for', 'the', 'first', 'time', 'formulate', 'serious', 'and', 'precise', 'proposals', 'for', 'the', 'inspection', 'and', 'control', 'of', 'arms', 'and', 'bring', 'the', 'absolute', 'power', 'to', 'destroy', 'other', 'nations', 'under', 'the', 'absolute', 'control', 'of', 'all', 'nations', 'Let', 'both', 'sides', 'seek', 'to', 'invoke', 'the', 'wonders', 'of', 'science', 'instead', 'of', 'its', 'terrors', 'Together', 'let', 'us', 'explore', 'the', 'stars', 'conquer', 'the', 'deserts', 'eradicate', 'disease', 'tap', 'the', 'ocean', 'depths', 'and', 'encourage', 'the', 'arts', 'and', 'commerce', 'Let', 'both', 'sides', 'unite', 'to', 'heed', 'in', 'all', 'corners', 'of', 'the', 'earth', 'the', 'command', 'of', 'Isaiah', 'to', 'undo', 'the', 'heavy', 'burdens', 'and', 'let', 'the', 'oppressed', 'go', 'free', 'And', 'if', 'a', 'of', 'cooperation', 'may', 'push', 'back', 'the', 'jungle', 'of', 'suspicion', 'let', 'both', 'sides', 'join', 'in', 'creating', 'a', 'new', 'endeavor', 'not', 'a', 'new', 'balance', 'of', 'power', 'but', 'a', 'new', 'world', 'of', 'law', 'where', 'the', 'strong', 'are', 'just', 'and', 'the', 'weak', 'secure', 'and', 'the', 'peace', 'preserved', 'All', 'this', 'will', 'not', 'be', 'finished', 'in', 'the', 'first', 'one', 'hundred', 'days', 'Nor', 'will', 'it', 'be', 'finished', 'in', 'the', 'first', 'one', 'thousand', 'days', 'nor', 'in', 'the', 'life', 'of', 'this', 'Administration', 'nor', 'even', 'perhaps', 'in', 'our', 'lifetime', 'on', 'this', 'planet', 'But', 'let', 'us', 'begin', 'In', 'your', 'hands', 'my', 'fellow', 'citizens', 'more', 'than', 'mine', 'will', 'rest', 'the', 'final', 'success', 'or', 'failure', 'of', 'our', 'course', 'Since', 'this', 'country', 'was', 'founded', 'each', 'generation', 'of', 'Americans', 'has', 'been', 'summoned', 'to', 'give', 'testimony', 'to', 'its', 'national', 'loyalty', 'The', 'graves', 'of', 'young', 'Americans', 'who', 'answered', 'the', 'call', 'to', 'service', 'surround', 'the', 'globe', 'Now', 'the', 'trumpet', 'summons', 'us', 'as', 'a', 'call', 'to', 'bear', 'arms', 'though', 'arms', 'we', 'need', 'not', 'as', 'a', 'call', 'to', 'battle', 'though', 'embattled', 'we', 'are', 'but', 'a', 'call', 'to', 'bear', 'the', 'burden', 'of', 'a', 'long', 'twilight', 'struggle', 'year', 'in', 'and', 'year', 'out', 'rejoicing', 'in', 'hope', 'patient', 'in', 'tribulation', 'a', 'struggle', 'against', 'the', 'common', 'enemies', 'of', 'man', 'tyranny', 'poverty', 'disease', 'and', 'war', 'itself', 'Can', 'we', 'forge', 'against', 'these', 'enemies', 'a', 'grand', 'and', 'global', 'alliance', 'North', 'and', 'South', 'East', 'and', 'West', 'that', 'can', 'assure', 'a', 'more', 'fruitful', 'life', 'for', 'all', 'mankind', 'Will', 'you', 'join', 'in', 'that', 'historic', 'effort', 'In', 'the', 'long', 'history', 'of', 'the', 'world', 'only', 'a', 'few', 'generations', 'have', 'been', 'granted', 'the', 'role', 'of', 'defending', 'freedom', 'in', 'its', 'hour', 'of', 'maximum', 'danger', 'I', 'do', 'not', 'shrink', 'from', 'this', 'responsibility', 'I', 'welcome', 'it', 'I', 'do', 'not', 'believe', 'that', 'any', 'of', 'us', 'would', 'exchange', 'places', 'with', 'any', 'other', 'people', 'or', 'any', 'other', 'generation', 'The', 'energy', 'the', 'faith', 'the', 'devotion', 'which', 'we', 'bring', 'to', 'this', 'endeavor', 'will', 'light', 'our', 'country', 'and', 'all', 'who', 'serve', 'it', 'and', 'the', 'glow', 'from', 'that', 'fire', 'can', 'truly', 'light', 'the', 'world', 'And', 'so', 'my', 'fellow', 'Americans', 'ask', 'not', 'what', 'your', 'country', 'can', 'do', 'for', 'you', 'ask', 'what', 'you', 'can', 'do', 'for', 'your', 'country', 'My', 'fellow', 'citizens', 'of', 'the', 'world', 'ask', 'not', 'what', 'America', 'will', 'do', 'for', 'you', 'but', 'what', 'together', 'we', 'can', 'do', 'for', 'the', 'freedom', 'of', 'man', 'Finally', 'whether', 'you', 'are', 'citizens', 'of', 'America', 'or', 'citizens', 'of', 'the', 'world', 'ask', 'of', 'us', 'here', 'the', 'same', 'high', 'standards', 'of', 'strength', 'and', 'sacrifice', 'which', 'we', 'ask', 'of', 'you', 'With', 'a', 'good', 'conscience', 'our', 'only', 'sure', 'reward', 'with', 'history', 'the', 'final', 'judge', 'of', 'our', 'deeds', 'let', 'us', 'go', 'forth', 'to', 'lead', 'the', 'land', 'we', 'love', 'asking', 'His', 'blessing', 'and', 'His', 'help', 'but', 'knowing', 'that', 'here', 'on', 'earth', 'God', 'work', 'must', 'truly', 'be', 'our', 'own']\n"
     ]
    }
   ],
   "source": [
    "# remove alphabet\n",
    "words = [word for word in words if word.isalpha()]\n",
    "print(words)"
   ]
  },
  {
   "cell_type": "code",
   "execution_count": 24,
   "metadata": {},
   "outputs": [
    {
     "name": "stdout",
     "output_type": "stream",
     "text": [
      "['Vice', 'President', 'Johnson', 'Speaker', 'Chief', 'Justice', 'President', 'Eisenhower', 'Vice', 'president', 'Nixon', 'President', 'Truman', 'Reverend', 'Clergy', 'fellow', 'citizens', 'We', 'observe', 'today', 'victory', 'party', 'celebration', 'freedom', 'symbolizing', 'end', 'well', 'beginning', 'signifying', 'renewal', 'well', 'change', 'For', 'I', 'sworn', 'Almighty', 'God', 'solemn', 'oath', 'forebears', 'prescribed', 'nearly', 'century', 'three', 'quarters', 'ago', 'The', 'world', 'different', 'For', 'man', 'holds', 'mortal', 'hands', 'power', 'abolish', 'forms', 'human', 'poverty', 'forms', 'human', 'life', 'And', 'yet', 'revolutionary', 'beliefs', 'forebears', 'fought', 'still', 'issue', 'around', 'globe', 'belief', 'rights', 'man', 'come', 'generosity', 'state', 'hand', 'God', 'We', 'dare', 'forget', 'today', 'heirs', 'first', 'revolution', 'Let', 'word', 'go', 'forth', 'time', 'place', 'friend', 'foe', 'alike', 'torch', 'passed', 'new', 'generation', 'Americans', 'born', 'century', 'tempered', 'war', 'disciplined', 'hard', 'bitter', 'peace', 'proud', 'ancient', 'heritage', 'unwilling', 'witness', 'permit', 'slow', 'undoing', 'human', 'rights', 'nation', 'always', 'committed', 'committed', 'today', 'home', 'around', 'world', 'Let', 'every', 'nation', 'know', 'whether', 'wishes', 'us', 'well', 'ill', 'shall', 'pay', 'price', 'bear', 'burden', 'meet', 'hardship', 'support', 'friend', 'oppose', 'foe', 'assure', 'survival', 'success', 'liberty', 'This', 'much', 'pledge', 'To', 'old', 'allies', 'whose', 'cultural', 'spiritual', 'origins', 'share', 'pledge', 'loyalty', 'faithful', 'friends', 'United', 'little', 'host', 'cooperative', 'ventures', 'Divided', 'little', 'dare', 'meet', 'powerful', 'challenge', 'odds', 'split', 'asunder', 'To', 'new', 'states', 'welcome', 'ranks', 'free', 'pledge', 'word', 'one', 'form', 'colonial', 'control', 'shall', 'passed', 'away', 'merely', 'replaced', 'far', 'iron', 'tyranny', 'We', 'shall', 'always', 'expect', 'find', 'supporting', 'view', 'But', 'shall', 'always', 'hope', 'find', 'strongly', 'supporting', 'remember', 'past', 'foolishly', 'sought', 'power', 'riding', 'back', 'tiger', 'ended', 'inside', 'To', 'peoples', 'huts', 'villages', 'half', 'globe', 'struggling', 'break', 'bonds', 'mass', 'misery', 'pledge', 'best', 'efforts', 'help', 'help', 'whatever', 'period', 'required', 'communists', 'may', 'seek', 'votes', 'right', 'If', 'free', 'society', 'help', 'many', 'poor', 'save', 'rich', 'To', 'sister', 'republics', 'south', 'border', 'offer', 'special', 'pledge', 'convert', 'good', 'words', 'good', 'deeds', 'new', 'alliance', 'progress', 'assist', 'free', 'men', 'free', 'governments', 'casting', 'chains', 'poverty', 'But', 'peaceful', 'revolution', 'hope', 'become', 'prey', 'hostile', 'powers', 'Let', 'neighbors', 'know', 'shall', 'join', 'oppose', 'aggression', 'subversion', 'anywhere', 'Americas', 'And', 'let', 'every', 'power', 'know', 'Hemisphere', 'intends', 'remain', 'master', 'house', 'To', 'world', 'assembly', 'sovereign', 'states', 'United', 'Nations', 'last', 'best', 'hope', 'age', 'instruments', 'war', 'far', 'outpaced', 'instruments', 'peace', 'renew', 'pledge', 'support', 'prevent', 'becoming', 'merely', 'forum', 'invective', 'strengthen', 'shield', 'new', 'weak', 'enlarge', 'area', 'writ', 'may', 'run', 'Finally', 'nations', 'would', 'make', 'adversary', 'offer', 'pledge', 'request', 'sides', 'begin', 'anew', 'quest', 'peace', 'dark', 'powers', 'destruction', 'unleashed', 'science', 'engulf', 'humanity', 'planned', 'accidental', 'We', 'dare', 'tempt', 'weakness', 'For', 'arms', 'sufficient', 'beyond', 'doubt', 'certain', 'beyond', 'doubt', 'never', 'employed', 'But', 'neither', 'two', 'great', 'powerful', 'groups', 'nations', 'take', 'comfort', 'present', 'course', 'sides', 'overburdened', 'cost', 'modern', 'weapons', 'rightly', 'alarmed', 'steady', 'spread', 'deadly', 'atom', 'yet', 'racing', 'alter', 'uncertain', 'balance', 'terror', 'stays', 'hand', 'mankind', 'final', 'war', 'So', 'let', 'us', 'begin', 'anew', 'remembering', 'sides', 'civility', 'sign', 'weakness', 'sincerity', 'always', 'subject', 'proof', 'Let', 'us', 'never', 'negotiate', 'fear', 'But', 'let', 'us', 'never', 'fear', 'negotiate', 'Let', 'sides', 'explore', 'problems', 'unite', 'us', 'instead', 'belaboring', 'problems', 'divide', 'us', 'Let', 'sides', 'first', 'time', 'formulate', 'serious', 'precise', 'proposals', 'inspection', 'control', 'arms', 'bring', 'absolute', 'power', 'destroy', 'nations', 'absolute', 'control', 'nations', 'Let', 'sides', 'seek', 'invoke', 'wonders', 'science', 'instead', 'terrors', 'Together', 'let', 'us', 'explore', 'stars', 'conquer', 'deserts', 'eradicate', 'disease', 'tap', 'ocean', 'depths', 'encourage', 'arts', 'commerce', 'Let', 'sides', 'unite', 'heed', 'corners', 'earth', 'command', 'Isaiah', 'undo', 'heavy', 'burdens', 'let', 'oppressed', 'go', 'free', 'And', 'cooperation', 'may', 'push', 'back', 'jungle', 'suspicion', 'let', 'sides', 'join', 'creating', 'new', 'endeavor', 'new', 'balance', 'power', 'new', 'world', 'law', 'strong', 'weak', 'secure', 'peace', 'preserved', 'All', 'finished', 'first', 'one', 'hundred', 'days', 'Nor', 'finished', 'first', 'one', 'thousand', 'days', 'life', 'Administration', 'even', 'perhaps', 'lifetime', 'planet', 'But', 'let', 'us', 'begin', 'In', 'hands', 'fellow', 'citizens', 'mine', 'rest', 'final', 'success', 'failure', 'course', 'Since', 'country', 'founded', 'generation', 'Americans', 'summoned', 'give', 'testimony', 'national', 'loyalty', 'The', 'graves', 'young', 'Americans', 'answered', 'call', 'service', 'surround', 'globe', 'Now', 'trumpet', 'summons', 'us', 'call', 'bear', 'arms', 'though', 'arms', 'need', 'call', 'battle', 'though', 'embattled', 'call', 'bear', 'burden', 'long', 'twilight', 'struggle', 'year', 'year', 'rejoicing', 'hope', 'patient', 'tribulation', 'struggle', 'common', 'enemies', 'man', 'tyranny', 'poverty', 'disease', 'war', 'Can', 'forge', 'enemies', 'grand', 'global', 'alliance', 'North', 'South', 'East', 'West', 'assure', 'fruitful', 'life', 'mankind', 'Will', 'join', 'historic', 'effort', 'In', 'long', 'history', 'world', 'generations', 'granted', 'role', 'defending', 'freedom', 'hour', 'maximum', 'danger', 'I', 'shrink', 'responsibility', 'I', 'welcome', 'I', 'believe', 'us', 'would', 'exchange', 'places', 'people', 'generation', 'The', 'energy', 'faith', 'devotion', 'bring', 'endeavor', 'light', 'country', 'serve', 'glow', 'fire', 'truly', 'light', 'world', 'And', 'fellow', 'Americans', 'ask', 'country', 'ask', 'country', 'My', 'fellow', 'citizens', 'world', 'ask', 'America', 'together', 'freedom', 'man', 'Finally', 'whether', 'citizens', 'America', 'citizens', 'world', 'ask', 'us', 'high', 'standards', 'strength', 'sacrifice', 'ask', 'With', 'good', 'conscience', 'sure', 'reward', 'history', 'final', 'judge', 'deeds', 'let', 'us', 'go', 'forth', 'lead', 'land', 'love', 'asking', 'His', 'blessing', 'His', 'help', 'knowing', 'earth', 'God', 'work', 'must', 'truly']\n"
     ]
    }
   ],
   "source": [
    "# filter stop words\n",
    "from nltk.corpus import stopwords \n",
    "stop_words = set(stopwords.words('english')) \n",
    "filtered_words = [word for word in words if word not in stop_words]\n",
    "print(filtered_words)"
   ]
  },
  {
   "cell_type": "code",
   "execution_count": 25,
   "metadata": {},
   "outputs": [
    {
     "name": "stdout",
     "output_type": "stream",
     "text": [
      "[('Vice', 'NNP'), ('President', 'NNP'), ('Johnson', 'NNP'), ('Speaker', 'NNP'), ('Chief', 'NNP'), ('Justice', 'NNP'), ('President', 'NNP'), ('Eisenhower', 'NNP'), ('Vice', 'NNP'), ('president', 'NN'), ('Nixon', 'NNP'), ('President', 'NNP'), ('Truman', 'NNP'), ('Reverend', 'NNP'), ('Clergy', 'NNP'), ('fellow', 'JJ'), ('citizens', 'NNS'), ('We', 'PRP'), ('observe', 'VBP'), ('today', 'NN'), ('victory', 'NN'), ('party', 'NN'), ('celebration', 'NN'), ('freedom', 'NN'), ('symbolizing', 'VBG'), ('end', 'NN'), ('well', 'RB'), ('beginning', 'VBG'), ('signifying', 'VBG'), ('renewal', 'NN'), ('well', 'RB'), ('change', 'NN'), ('For', 'IN'), ('I', 'PRP'), ('sworn', 'VBP'), ('Almighty', 'NNP'), ('God', 'NNP'), ('solemn', 'VBZ'), ('oath', 'JJ'), ('forebears', 'NNS'), ('prescribed', 'VBD'), ('nearly', 'RB'), ('century', 'NN'), ('three', 'CD'), ('quarters', 'NNS'), ('ago', 'IN'), ('The', 'DT'), ('world', 'NN'), ('different', 'JJ'), ('For', 'IN'), ('man', 'NN'), ('holds', 'VBZ'), ('mortal', 'JJ'), ('hands', 'NNS'), ('power', 'NN'), ('abolish', 'JJ'), ('forms', 'NNS'), ('human', 'JJ'), ('poverty', 'NN'), ('forms', 'NNS'), ('human', 'JJ'), ('life', 'NN'), ('And', 'CC'), ('yet', 'RB'), ('revolutionary', 'JJ'), ('beliefs', 'NNS'), ('forebears', 'NNS'), ('fought', 'VBD'), ('still', 'RB'), ('issue', 'VB'), ('around', 'IN'), ('globe', 'JJ'), ('belief', 'NN'), ('rights', 'NNS'), ('man', 'NN'), ('come', 'VBP'), ('generosity', 'NN'), ('state', 'NN'), ('hand', 'NN'), ('God', 'NNP'), ('We', 'PRP'), ('dare', 'VBP'), ('forget', 'VB'), ('today', 'NN'), ('heirs', 'NNS'), ('first', 'JJ'), ('revolution', 'NN'), ('Let', 'NNP'), ('word', 'NN'), ('go', 'VB'), ('forth', 'JJ'), ('time', 'NN'), ('place', 'NN'), ('friend', 'VBP'), ('foe', 'NN'), ('alike', 'IN'), ('torch', 'NN'), ('passed', 'VBD'), ('new', 'JJ'), ('generation', 'NN'), ('Americans', 'NNPS'), ('born', 'JJ'), ('century', 'NN'), ('tempered', 'VBD'), ('war', 'NN'), ('disciplined', 'VBD'), ('hard', 'JJ'), ('bitter', 'JJ'), ('peace', 'NN'), ('proud', 'JJ'), ('ancient', 'JJ'), ('heritage', 'NN'), ('unwilling', 'JJ'), ('witness', 'JJ'), ('permit', 'NN'), ('slow', 'JJ'), ('undoing', 'VBG'), ('human', 'JJ'), ('rights', 'NNS'), ('nation', 'NN'), ('always', 'RB'), ('committed', 'VBN'), ('committed', 'VBN'), ('today', 'NN'), ('home', 'NN'), ('around', 'IN'), ('world', 'NN'), ('Let', 'NNP'), ('every', 'DT'), ('nation', 'NN'), ('know', 'VBP'), ('whether', 'IN'), ('wishes', 'NNS'), ('us', 'PRP'), ('well', 'RB'), ('ill', 'VB'), ('shall', 'MD'), ('pay', 'VB'), ('price', 'NN'), ('bear', 'IN'), ('burden', 'JJ'), ('meet', 'NN'), ('hardship', 'JJ'), ('support', 'NN'), ('friend', 'NN'), ('oppose', 'VBP'), ('foe', 'JJ'), ('assure', 'NN'), ('survival', 'NN'), ('success', 'NN'), ('liberty', 'NN'), ('This', 'DT'), ('much', 'RB'), ('pledge', 'NN'), ('To', 'TO'), ('old', 'JJ'), ('allies', 'NNS'), ('whose', 'WP$'), ('cultural', 'JJ'), ('spiritual', 'JJ'), ('origins', 'NNS'), ('share', 'NN'), ('pledge', 'VBP'), ('loyalty', 'NN'), ('faithful', 'JJ'), ('friends', 'NNS'), ('United', 'NNP'), ('little', 'JJ'), ('host', 'NN'), ('cooperative', 'JJ'), ('ventures', 'NNS'), ('Divided', 'VBD'), ('little', 'JJ'), ('dare', 'JJ'), ('meet', 'NN'), ('powerful', 'JJ'), ('challenge', 'NN'), ('odds', 'NNS'), ('split', 'VBD'), ('asunder', 'RB'), ('To', 'TO'), ('new', 'JJ'), ('states', 'NNS'), ('welcome', 'VBP'), ('ranks', 'NNS'), ('free', 'JJ'), ('pledge', 'NN'), ('word', 'NN'), ('one', 'CD'), ('form', 'NN'), ('colonial', 'NN'), ('control', 'NN'), ('shall', 'MD'), ('passed', 'VBN'), ('away', 'RB'), ('merely', 'RB'), ('replaced', 'VBN'), ('far', 'RB'), ('iron', 'JJ'), ('tyranny', 'NN'), ('We', 'PRP'), ('shall', 'MD'), ('always', 'RB'), ('expect', 'VB'), ('find', 'IN'), ('supporting', 'VBG'), ('view', 'NN'), ('But', 'CC'), ('shall', 'MD'), ('always', 'RB'), ('hope', 'VB'), ('find', 'RB'), ('strongly', 'RB'), ('supporting', 'VBG'), ('remember', 'VB'), ('past', 'JJ'), ('foolishly', 'RB'), ('sought', 'JJ'), ('power', 'NN'), ('riding', 'VBG'), ('back', 'RB'), ('tiger', 'NN'), ('ended', 'VBD'), ('inside', 'RB'), ('To', 'TO'), ('peoples', 'NNS'), ('huts', 'NNS'), ('villages', 'NNS'), ('half', 'NN'), ('globe', 'NN'), ('struggling', 'VBG'), ('break', 'JJ'), ('bonds', 'NNS'), ('mass', 'VBP'), ('misery', 'NN'), ('pledge', 'NN'), ('best', 'JJS'), ('efforts', 'NNS'), ('help', 'NN'), ('help', 'VB'), ('whatever', 'WDT'), ('period', 'NN'), ('required', 'VBN'), ('communists', 'NNS'), ('may', 'MD'), ('seek', 'VB'), ('votes', 'NNS'), ('right', 'RB'), ('If', 'IN'), ('free', 'JJ'), ('society', 'NN'), ('help', 'VBP'), ('many', 'JJ'), ('poor', 'JJ'), ('save', 'VBP'), ('rich', 'JJ'), ('To', 'TO'), ('sister', 'VB'), ('republics', 'NNS'), ('south', 'JJ'), ('border', 'NN'), ('offer', 'NN'), ('special', 'JJ'), ('pledge', 'NN'), ('convert', 'NN'), ('good', 'JJ'), ('words', 'NNS'), ('good', 'JJ'), ('deeds', 'NNS'), ('new', 'JJ'), ('alliance', 'NN'), ('progress', 'NN'), ('assist', 'JJ'), ('free', 'JJ'), ('men', 'NNS'), ('free', 'JJ'), ('governments', 'NNS'), ('casting', 'VBG'), ('chains', 'NNS'), ('poverty', 'NN'), ('But', 'CC'), ('peaceful', 'JJ'), ('revolution', 'NN'), ('hope', 'VBP'), ('become', 'VBN'), ('prey', 'JJ'), ('hostile', 'JJ'), ('powers', 'NNS'), ('Let', 'VBP'), ('neighbors', 'NNS'), ('know', 'VB'), ('shall', 'MD'), ('join', 'VB'), ('oppose', 'JJ'), ('aggression', 'NN'), ('subversion', 'NN'), ('anywhere', 'RB'), ('Americas', 'NNP'), ('And', 'CC'), ('let', 'VB'), ('every', 'DT'), ('power', 'NN'), ('know', 'VBP'), ('Hemisphere', 'NNP'), ('intends', 'VBZ'), ('remain', 'VBP'), ('master', 'JJ'), ('house', 'NN'), ('To', 'TO'), ('world', 'NN'), ('assembly', 'RB'), ('sovereign', 'JJ'), ('states', 'NNS'), ('United', 'NNP'), ('Nations', 'NNPS'), ('last', 'JJ'), ('best', 'JJS'), ('hope', 'NN'), ('age', 'NN'), ('instruments', 'NNS'), ('war', 'NN'), ('far', 'RB'), ('outpaced', 'JJ'), ('instruments', 'NNS'), ('peace', 'VBP'), ('renew', 'NN'), ('pledge', 'NN'), ('support', 'NN'), ('prevent', 'NN'), ('becoming', 'VBG'), ('merely', 'RB'), ('forum', 'JJ'), ('invective', 'JJ'), ('strengthen', 'NN'), ('shield', 'VBD'), ('new', 'JJ'), ('weak', 'JJ'), ('enlarge', 'NN'), ('area', 'NN'), ('writ', 'NN'), ('may', 'MD'), ('run', 'VB'), ('Finally', 'NNP'), ('nations', 'NNPS'), ('would', 'MD'), ('make', 'VB'), ('adversary', 'JJ'), ('offer', 'NN'), ('pledge', 'NN'), ('request', 'NN'), ('sides', 'NNS'), ('begin', 'VBP'), ('anew', 'RB'), ('quest', 'JJS'), ('peace', 'NN'), ('dark', 'NN'), ('powers', 'NNS'), ('destruction', 'NN'), ('unleashed', 'VBD'), ('science', 'NN'), ('engulf', 'NN'), ('humanity', 'NN'), ('planned', 'VBN'), ('accidental', 'IN'), ('We', 'PRP'), ('dare', 'VBP'), ('tempt', 'JJ'), ('weakness', 'NN'), ('For', 'IN'), ('arms', 'NNS'), ('sufficient', 'JJ'), ('beyond', 'IN'), ('doubt', 'NN'), ('certain', 'JJ'), ('beyond', 'IN'), ('doubt', 'NN'), ('never', 'RB'), ('employed', 'VBN'), ('But', 'CC'), ('neither', 'DT'), ('two', 'CD'), ('great', 'JJ'), ('powerful', 'JJ'), ('groups', 'NNS'), ('nations', 'NNS'), ('take', 'VBP'), ('comfort', 'NN'), ('present', 'JJ'), ('course', 'NN'), ('sides', 'NNS'), ('overburdened', 'VBD'), ('cost', 'NN'), ('modern', 'JJ'), ('weapons', 'NNS'), ('rightly', 'RB'), ('alarmed', 'VBD'), ('steady', 'JJ'), ('spread', 'NN'), ('deadly', 'RB'), ('atom', 'JJ'), ('yet', 'RB'), ('racing', 'VBG'), ('alter', 'NN'), ('uncertain', 'JJ'), ('balance', 'NN'), ('terror', 'NN'), ('stays', 'VBZ'), ('hand', 'NN'), ('mankind', \"''\"), ('final', 'JJ'), ('war', 'NN'), ('So', 'NNP'), ('let', 'VBD'), ('us', 'PRP'), ('begin', 'VB'), ('anew', 'RB'), ('remembering', 'VBG'), ('sides', 'NNS'), ('civility', 'NN'), ('sign', 'NN'), ('weakness', 'NN'), ('sincerity', 'NN'), ('always', 'RB'), ('subject', 'JJ'), ('proof', 'NN'), ('Let', 'NNP'), ('us', 'PRP'), ('never', 'RB'), ('negotiate', 'VBP'), ('fear', 'NN'), ('But', 'CC'), ('let', 'VB'), ('us', 'PRP'), ('never', 'RB'), ('fear', 'VBP'), ('negotiate', 'JJ'), ('Let', 'NNP'), ('sides', 'NNS'), ('explore', 'VB'), ('problems', 'NNS'), ('unite', 'JJ'), ('us', 'PRP'), ('instead', 'RB'), ('belaboring', 'VBG'), ('problems', 'NNS'), ('divide', 'VBP'), ('us', 'PRP'), ('Let', 'VB'), ('sides', 'NNS'), ('first', 'JJ'), ('time', 'NN'), ('formulate', 'NN'), ('serious', 'JJ'), ('precise', 'NN'), ('proposals', 'NNS'), ('inspection', 'VBP'), ('control', 'NN'), ('arms', 'NNS'), ('bring', 'VBP'), ('absolute', 'JJ'), ('power', 'NN'), ('destroy', 'NN'), ('nations', 'NNS'), ('absolute', 'VBP'), ('control', 'NN'), ('nations', 'NNS'), ('Let', 'NNP'), ('sides', 'NNS'), ('seek', 'VBP'), ('invoke', 'NN'), ('wonders', 'NNS'), ('science', 'VBP'), ('instead', 'RB'), ('terrors', 'NNS'), ('Together', 'RB'), ('let', 'VBP'), ('us', 'PRP'), ('explore', 'VB'), ('stars', 'NNS'), ('conquer', 'VB'), ('deserts', 'NNS'), ('eradicate', 'VB'), ('disease', 'NN'), ('tap', 'JJ'), ('ocean', 'JJ'), ('depths', 'NNS'), ('encourage', 'VB'), ('arts', 'NNS'), ('commerce', 'VB'), ('Let', 'NNP'), ('sides', 'NNS'), ('unite', 'JJ'), ('heed', 'VBD'), ('corners', 'NNS'), ('earth', 'JJ'), ('command', 'VBP'), ('Isaiah', 'NNP'), ('undo', 'JJ'), ('heavy', 'JJ'), ('burdens', 'NNS'), ('let', 'VB'), ('oppressed', 'VBN'), ('go', 'VB'), ('free', 'JJ'), ('And', 'CC'), ('cooperation', 'NN'), ('may', 'MD'), ('push', 'VB'), ('back', 'RB'), ('jungle', 'JJ'), ('suspicion', 'NN'), ('let', 'VBD'), ('sides', 'NNS'), ('join', 'VB'), ('creating', 'VBG'), ('new', 'JJ'), ('endeavor', 'JJ'), ('new', 'JJ'), ('balance', 'NN'), ('power', 'NN'), ('new', 'JJ'), ('world', 'NN'), ('law', 'NN'), ('strong', 'JJ'), ('weak', 'JJ'), ('secure', 'NN'), ('peace', 'NN'), ('preserved', 'VBD'), ('All', 'DT'), ('finished', 'VBN'), ('first', 'RB'), ('one', 'CD'), ('hundred', 'JJ'), ('days', 'NNS'), ('Nor', 'CC'), ('finished', 'VBD'), ('first', 'RB'), ('one', 'CD'), ('thousand', 'NN'), ('days', 'NNS'), ('life', 'NN'), ('Administration', 'NNP'), ('even', 'RB'), ('perhaps', 'RB'), ('lifetime', 'JJ'), ('planet', 'NN'), ('But', 'CC'), ('let', 'VB'), ('us', 'PRP'), ('begin', 'VB'), ('In', 'IN'), ('hands', 'NNS'), ('fellow', 'JJ'), ('citizens', 'NNS'), ('mine', 'VBP'), ('rest', 'JJS'), ('final', 'JJ'), ('success', 'NN'), ('failure', 'NN'), ('course', 'NN'), ('Since', 'IN'), ('country', 'NN'), ('founded', 'VBD'), ('generation', 'NN'), ('Americans', 'NNPS'), ('summoned', 'VBD'), ('give', 'JJ'), ('testimony', 'NN'), ('national', 'JJ'), ('loyalty', 'NN'), ('The', 'DT'), ('graves', 'NNS'), ('young', 'JJ'), ('Americans', 'NNPS'), ('answered', 'VBD'), ('call', 'JJ'), ('service', 'NN'), ('surround', 'NN'), ('globe', 'NN'), ('Now', 'RB'), ('trumpet', 'VBZ'), ('summons', 'NNS'), ('us', 'PRP'), ('call', 'VBP'), ('bear', 'JJ'), ('arms', 'NNS'), ('though', 'IN'), ('arms', 'NNS'), ('need', 'VBP'), ('call', 'JJ'), ('battle', 'NN'), ('though', 'IN'), ('embattled', 'JJ'), ('call', 'NN'), ('bear', 'NN'), ('burden', 'NN'), ('long', 'RB'), ('twilight', 'RB'), ('struggle', 'NN'), ('year', 'NN'), ('year', 'NN'), ('rejoicing', 'VBG'), ('hope', 'NN'), ('patient', 'JJ'), ('tribulation', 'NN'), ('struggle', 'NN'), ('common', 'JJ'), ('enemies', 'NNS'), ('man', 'NN'), ('tyranny', 'VBP'), ('poverty', 'JJ'), ('disease', 'NN'), ('war', 'NN'), ('Can', 'NNP'), ('forge', 'NN'), ('enemies', 'NNS'), ('grand', 'JJ'), ('global', 'JJ'), ('alliance', 'NN'), ('North', 'NNP'), ('South', 'NNP'), ('East', 'NNP'), ('West', 'NNP'), ('assure', 'NN'), ('fruitful', 'JJ'), ('life', 'NN'), ('mankind', 'NN'), ('Will', 'NNP'), ('join', 'VB'), ('historic', 'JJ'), ('effort', 'NN'), ('In', 'IN'), ('long', 'JJ'), ('history', 'NN'), ('world', 'NN'), ('generations', 'NNS'), ('granted', 'VBN'), ('role', 'NN'), ('defending', 'VBG'), ('freedom', 'JJ'), ('hour', 'NN'), ('maximum', 'JJ'), ('danger', 'NN'), ('I', 'PRP'), ('shrink', 'VBP'), ('responsibility', 'NN'), ('I', 'PRP'), ('welcome', 'VBP'), ('I', 'PRP'), ('believe', 'VBP'), ('us', 'PRP'), ('would', 'MD'), ('exchange', 'VB'), ('places', 'NNS'), ('people', 'NNS'), ('generation', 'NN'), ('The', 'DT'), ('energy', 'NN'), ('faith', 'JJ'), ('devotion', 'NN'), ('bring', 'NN'), ('endeavor', 'NN'), ('light', 'JJ'), ('country', 'NN'), ('serve', 'VBP'), ('glow', 'JJ'), ('fire', 'NN'), ('truly', 'RB'), ('light', 'JJ'), ('world', 'NN'), ('And', 'CC'), ('fellow', 'JJ'), ('Americans', 'NNPS'), ('ask', 'JJ'), ('country', 'NN'), ('ask', 'VB'), ('country', 'NN'), ('My', 'NNP'), ('fellow', 'NN'), ('citizens', 'NNS'), ('world', 'NN'), ('ask', 'NN'), ('America', 'NNP'), ('together', 'RB'), ('freedom', 'NN'), ('man', 'NN'), ('Finally', 'NNP'), ('whether', 'IN'), ('citizens', 'NNS'), ('America', 'NNP'), ('citizens', 'VBZ'), ('world', 'NN'), ('ask', 'VB'), ('us', 'PRP'), ('high', 'JJ'), ('standards', 'NNS'), ('strength', 'NN'), ('sacrifice', 'NN'), ('ask', 'NN'), ('With', 'IN'), ('good', 'JJ'), ('conscience', 'NN'), ('sure', 'JJ'), ('reward', 'JJ'), ('history', 'NN'), ('final', 'JJ'), ('judge', 'NN'), ('deeds', 'NNS'), ('let', 'VB'), ('us', 'PRP'), ('go', 'VB'), ('forth', 'JJ'), ('lead', 'NN'), ('land', 'NN'), ('love', 'IN'), ('asking', 'VBG'), ('His', 'PRP$'), ('blessing', 'VBG'), ('His', 'PRP$'), ('help', 'NN'), ('knowing', 'VBG'), ('earth', 'JJ'), ('God', 'NNP'), ('work', 'NN'), ('must', 'MD'), ('truly', 'VB')]\n"
     ]
    }
   ],
   "source": [
    "tags = nltk.pos_tag(filtered_words)\n",
    "print(tags)"
   ]
  },
  {
   "cell_type": "code",
   "execution_count": 26,
   "metadata": {},
   "outputs": [
    {
     "name": "stdout",
     "output_type": "stream",
     "text": [
      "['Vice', 'President', 'Johnson', 'Speaker', 'Chief', 'Justice', 'President', 'Eisenhower', 'Vice', 'president', 'Nixon', 'President', 'Truman', 'Reverend', 'Clergy', 'fellow', 'citizen', 'We', 'observe', 'today', 'victory', 'party', 'celebration', 'freedom', 'symbolize', 'end', 'well', 'begin', 'signify', 'renewal', 'well', 'change', 'For', 'I', 'sworn', 'Almighty', 'God', 'solemn', 'oath', 'forebear', 'prescribed', 'nearly', 'century', 'three', 'quarter', 'ago', 'The', 'world', 'different', 'For', 'man', 'hold', 'mortal', 'hand', 'power', 'abolish', 'form', 'human', 'poverty', 'form', 'human', 'life', 'And', 'yet', 'revolutionary', 'belief', 'forebear', 'fought', 'still', 'issue', 'around', 'globe', 'belief', 'right', 'man', 'come', 'generosity', 'state', 'hand', 'God', 'We', 'dare', 'forget', 'today', 'heir', 'first', 'revolution', 'Let', 'word', 'go', 'forth', 'time', 'place', 'friend', 'foe', 'alike', 'torch', 'pass', 'new', 'generation', 'Americans', 'born', 'century', 'temper', 'war', 'discipline', 'hard', 'bitter', 'peace', 'proud', 'ancient', 'heritage', 'unwilling', 'witness', 'permit', 'slow', 'undo', 'human', 'right', 'nation', 'always', 'commit', 'commit', 'today', 'home', 'around', 'world', 'Let', 'every', 'nation', 'know', 'whether', 'wish', 'u', 'well', 'ill', 'shall', 'pay', 'price', 'bear', 'burden', 'meet', 'hardship', 'support', 'friend', 'oppose', 'foe', 'assure', 'survival', 'success', 'liberty', 'This', 'much', 'pledge', 'To', 'old', 'ally', 'whose', 'cultural', 'spiritual', 'origin', 'share', 'pledge', 'loyalty', 'faithful', 'friend', 'United', 'little', 'host', 'cooperative', 'venture', 'Divided', 'little', 'dare', 'meet', 'powerful', 'challenge', 'odds', 'split', 'asunder', 'To', 'new', 'state', 'welcome', 'rank', 'free', 'pledge', 'word', 'one', 'form', 'colonial', 'control', 'shall', 'pass', 'away', 'merely', 'replace', 'far', 'iron', 'tyranny', 'We', 'shall', 'always', 'expect', 'find', 'support', 'view', 'But', 'shall', 'always', 'hope', 'find', 'strongly', 'support', 'remember', 'past', 'foolishly', 'sought', 'power', 'rid', 'back', 'tiger', 'end', 'inside', 'To', 'people', 'hut', 'village', 'half', 'globe', 'struggle', 'break', 'bond', 'mass', 'misery', 'pledge', 'best', 'effort', 'help', 'help', 'whatever', 'period', 'require', 'communist', 'may', 'seek', 'vote', 'right', 'If', 'free', 'society', 'help', 'many', 'poor', 'save', 'rich', 'To', 'sister', 'republic', 'south', 'border', 'offer', 'special', 'pledge', 'convert', 'good', 'word', 'good', 'deed', 'new', 'alliance', 'progress', 'assist', 'free', 'men', 'free', 'government', 'cast', 'chain', 'poverty', 'But', 'peaceful', 'revolution', 'hope', 'become', 'prey', 'hostile', 'power', 'Let', 'neighbor', 'know', 'shall', 'join', 'oppose', 'aggression', 'subversion', 'anywhere', 'Americas', 'And', 'let', 'every', 'power', 'know', 'Hemisphere', 'intend', 'remain', 'master', 'house', 'To', 'world', 'assembly', 'sovereign', 'state', 'United', 'Nations', 'last', 'best', 'hope', 'age', 'instrument', 'war', 'far', 'outpace', 'instrument', 'peace', 'renew', 'pledge', 'support', 'prevent', 'become', 'merely', 'forum', 'invective', 'strengthen', 'shield', 'new', 'weak', 'enlarge', 'area', 'writ', 'may', 'run', 'Finally', 'nation', 'would', 'make', 'adversary', 'offer', 'pledge', 'request', 'side', 'begin', 'anew', 'quest', 'peace', 'dark', 'power', 'destruction', 'unleashed', 'science', 'engulf', 'humanity', 'plan', 'accidental', 'We', 'dare', 'tempt', 'weakness', 'For', 'arm', 'sufficient', 'beyond', 'doubt', 'certain', 'beyond', 'doubt', 'never', 'employ', 'But', 'neither', 'two', 'great', 'powerful', 'group', 'nation', 'take', 'comfort', 'present', 'course', 'side', 'overburden', 'cost', 'modern', 'weapon', 'rightly', 'alarmed', 'steady', 'spread', 'deadly', 'atom', 'yet', 'race', 'alter', 'uncertain', 'balance', 'terror', 'stay', 'hand', 'mankind', 'final', 'war', 'So', 'let', 'u', 'begin', 'anew', 'remember', 'side', 'civility', 'sign', 'weakness', 'sincerity', 'always', 'subject', 'proof', 'Let', 'u', 'never', 'negotiate', 'fear', 'But', 'let', 'u', 'never', 'fear', 'negotiate', 'Let', 'side', 'explore', 'problem', 'unite', 'u', 'instead', 'belaboring', 'problem', 'divide', 'u', 'Let', 'side', 'first', 'time', 'formulate', 'serious', 'precise', 'proposal', 'inspection', 'control', 'arm', 'bring', 'absolute', 'power', 'destroy', 'nation', 'absolute', 'control', 'nation', 'Let', 'side', 'seek', 'invoke', 'wonder', 'science', 'instead', 'terror', 'Together', 'let', 'u', 'explore', 'star', 'conquer', 'desert', 'eradicate', 'disease', 'tap', 'ocean', 'depth', 'encourage', 'art', 'commerce', 'Let', 'side', 'unite', 'heed', 'corner', 'earth', 'command', 'Isaiah', 'undo', 'heavy', 'burden', 'let', 'oppress', 'go', 'free', 'And', 'cooperation', 'may', 'push', 'back', 'jungle', 'suspicion', 'let', 'side', 'join', 'create', 'new', 'endeavor', 'new', 'balance', 'power', 'new', 'world', 'law', 'strong', 'weak', 'secure', 'peace', 'preserve', 'All', 'finish', 'first', 'one', 'hundred', 'day', 'Nor', 'finish', 'first', 'one', 'thousand', 'day', 'life', 'Administration', 'even', 'perhaps', 'lifetime', 'planet', 'But', 'let', 'u', 'begin', 'In', 'hand', 'fellow', 'citizen', 'mine', 'rest', 'final', 'success', 'failure', 'course', 'Since', 'country', 'found', 'generation', 'Americans', 'summon', 'give', 'testimony', 'national', 'loyalty', 'The', 'graf', 'young', 'Americans', 'answer', 'call', 'service', 'surround', 'globe', 'Now', 'trumpet', 'summons', 'u', 'call', 'bear', 'arm', 'though', 'arm', 'need', 'call', 'battle', 'though', 'embattle', 'call', 'bear', 'burden', 'long', 'twilight', 'struggle', 'year', 'year', 'rejoice', 'hope', 'patient', 'tribulation', 'struggle', 'common', 'enemy', 'man', 'tyranny', 'poverty', 'disease', 'war', 'Can', 'forge', 'enemy', 'grand', 'global', 'alliance', 'North', 'South', 'East', 'West', 'assure', 'fruitful', 'life', 'mankind', 'Will', 'join', 'historic', 'effort', 'In', 'long', 'history', 'world', 'generation', 'grant', 'role', 'defend', 'freedom', 'hour', 'maximum', 'danger', 'I', 'shrink', 'responsibility', 'I', 'welcome', 'I', 'believe', 'u', 'would', 'exchange', 'place', 'people', 'generation', 'The', 'energy', 'faith', 'devotion', 'bring', 'endeavor', 'light', 'country', 'serve', 'glow', 'fire', 'truly', 'light', 'world', 'And', 'fellow', 'Americans', 'ask', 'country', 'ask', 'country', 'My', 'fellow', 'citizen', 'world', 'ask', 'America', 'together', 'freedom', 'man', 'Finally', 'whether', 'citizen', 'America', 'citizen', 'world', 'ask', 'u', 'high', 'standard', 'strength', 'sacrifice', 'ask', 'With', 'good', 'conscience', 'sure', 'reward', 'history', 'final', 'judge', 'deed', 'let', 'u', 'go', 'forth', 'lead', 'land', 'love', 'ask', 'His', 'blessing', 'His', 'help', 'know', 'earth', 'God', 'work', 'must', 'truly']\n"
     ]
    }
   ],
   "source": [
    "from nltk.corpus import wordnet\n",
    "def get_wordnet_pos(word):\n",
    "    \"\"\"Map POS tag to first character lemmatize() accepts\"\"\"\n",
    "    tag = nltk.pos_tag([word])[0][1][0].upper()\n",
    "    tag_dict = {\"J\": wordnet.ADJ,\n",
    "                \"N\": wordnet.NOUN,\n",
    "                \"V\": wordnet.VERB,\n",
    "                \"R\": wordnet.ADV}\n",
    "\n",
    "    return tag_dict.get(tag, wordnet.NOUN)\n",
    "lemmatizer = nltk.WordNetLemmatizer()\n",
    "tokens = []\n",
    "for word in filtered_words:\n",
    "    token = lemmatizer.lemmatize(word, get_wordnet_pos(word))\n",
    "    tokens.append(token)\n",
    "print(tokens)"
   ]
  },
  {
   "cell_type": "code",
   "execution_count": 27,
   "metadata": {},
   "outputs": [
    {
     "name": "stdout",
     "output_type": "stream",
     "text": [
      "           Vice  President  Johnson  Speaker  Chief  Justice  President  \\\n",
      "Vice          0          1        0        0      0        0          1   \n",
      "President     0          0        1        0      0        0          0   \n",
      "Johnson       0          0        0        1      0        0          0   \n",
      "Speaker       0          0        0        0      1        0          0   \n",
      "Chief         0          0        0        0      0        1          0   \n",
      "...         ...        ...      ...      ...    ...      ...        ...   \n",
      "earth         0          0        0        0      0        0          0   \n",
      "God           0          0        0        0      0        0          0   \n",
      "work          0          0        0        0      0        0          0   \n",
      "must          0          0        0        0      0        0          0   \n",
      "truly         0          0        0        0      0        0          0   \n",
      "\n",
      "           Eisenhower  Vice  president  ...  His  blessing  His  help  know  \\\n",
      "Vice                0     0          1  ...    0         0    0     0     0   \n",
      "President           1     0          0  ...    0         0    0     0     0   \n",
      "Johnson             0     0          0  ...    0         0    0     0     0   \n",
      "Speaker             0     0          0  ...    0         0    0     0     0   \n",
      "Chief               0     0          0  ...    0         0    0     0     0   \n",
      "...               ...   ...        ...  ...  ...       ...  ...   ...   ...   \n",
      "earth               0     0          0  ...    0         0    0     0     0   \n",
      "God                 0     0          0  ...    0         0    0     0     0   \n",
      "work                0     0          0  ...    0         0    0     0     0   \n",
      "must                0     0          0  ...    0         0    0     0     0   \n",
      "truly               0     0          0  ...    0         0    0     0     0   \n",
      "\n",
      "           earth  God  work  must  truly  \n",
      "Vice           0    0     0     0      0  \n",
      "President      0    0     0     0      0  \n",
      "Johnson        0    0     0     0      0  \n",
      "Speaker        0    0     0     0      0  \n",
      "Chief          0    0     0     0      0  \n",
      "...          ...  ...   ...   ...    ...  \n",
      "earth          0    1     0     0      0  \n",
      "God            0    0     1     0      0  \n",
      "work           0    0     0     1      0  \n",
      "must           0    0     0     0      1  \n",
      "truly          0    0     0     0      0  \n",
      "\n",
      "[726 rows x 726 columns]\n"
     ]
    }
   ],
   "source": [
    "import numpy as np \n",
    "import pandas as pd\n",
    "df = pd.DataFrame(0, index=tokens, columns=tokens)\n",
    "for i in range(1, len(tokens)):\n",
    "    df.loc[tokens[i-1], tokens[i]] += 1\n",
    "print(df)"
   ]
  },
  {
   "cell_type": "code",
   "execution_count": 28,
   "metadata": {},
   "outputs": [
    {
     "data": {
      "text/plain": [
       "[<matplotlib.lines.Line2D at 0x7f01ccfabb38>]"
      ]
     },
     "execution_count": 28,
     "metadata": {},
     "output_type": "execute_result"
    },
    {
     "data": {
      "image/png": "[encoded data removed]",
      "text/plain": [
       "<Figure size 432x288 with 1 Axes>"
      ]
     },
     "metadata": {
      "needs_background": "light"
     },
     "output_type": "display_data"
    }
   ],
   "source": [
    "values = df.to_numpy().flatten()\n",
    "values = -np.sort(-values)\n",
    "import matplotlib.pyplot as plt \n",
    "plt.plot(values)"
   ]
  },
  {
   "cell_type": "code",
   "execution_count": 1,
   "metadata": {},
   "outputs": [
    {
     "ename": "ModuleNotFoundError",
     "evalue": "No module named 'spacy'",
     "output_type": "error",
     "traceback": [
      "\u001b[0;31m---------------------------------------------------------------------------\u001b[0m",
      "\u001b[0;31mModuleNotFoundError\u001b[0m                       Traceback (most recent call last)",
      "\u001b[0;32m<ipython-input-1-e4cba3f71a29>\u001b[0m in \u001b[0;36m<module>\u001b[0;34m\u001b[0m\n\u001b[0;32m----> 1\u001b[0;31m \u001b[0;32mimport\u001b[0m \u001b[0mspacy\u001b[0m\u001b[0;34m\u001b[0m\u001b[0;34m\u001b[0m\u001b[0m\n\u001b[0m\u001b[1;32m      2\u001b[0m \u001b[0mnlp\u001b[0m \u001b[0;34m=\u001b[0m \u001b[0mspacy\u001b[0m\u001b[0;34m.\u001b[0m\u001b[0mload\u001b[0m\u001b[0;34m(\u001b[0m\u001b[0;34m\"en_core_web_sm\"\u001b[0m\u001b[0;34m)\u001b[0m\u001b[0;34m\u001b[0m\u001b[0;34m\u001b[0m\u001b[0m\n\u001b[1;32m      3\u001b[0m \u001b[0mdoc\u001b[0m \u001b[0;34m=\u001b[0m \u001b[0mnlp\u001b[0m\u001b[0;34m(\u001b[0m\u001b[0mtext\u001b[0m\u001b[0;34m)\u001b[0m\u001b[0;34m\u001b[0m\u001b[0;34m\u001b[0m\u001b[0m\n",
      "\u001b[0;31mModuleNotFoundError\u001b[0m: No module named 'spacy'"
     ]
    }
   ],
   "source": [
    "import spacy\n",
    "nlp = spacy.load(\"en_core_web_sm\")\n",
    "doc = nlp(text)"
   ]
  },
  {
   "cell_type": "code",
   "execution_count": null,
   "metadata": {},
   "outputs": [],
   "source": []
  }
 ],
 "metadata": {
  "kernelspec": {
   "display_name": "Python 3",
   "language": "python",
   "name": "python3"
  },
  "language_info": {
   "codemirror_mode": {
    "name": "ipython",
    "version": 3
   },
   "file_extension": ".py",
   "mimetype": "text/x-python",
   "name": "python",
   "nbconvert_exporter": "python",
   "pygments_lexer": "ipython3",
   "version": "3.7.3"
  }
 },
 "nbformat": 4,
 "nbformat_minor": 4
}
