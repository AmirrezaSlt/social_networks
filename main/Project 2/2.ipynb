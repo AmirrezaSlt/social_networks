{
 "cells": [
  {
   "cell_type": "code",
   "execution_count": 3,
   "metadata": {},
   "outputs": [],
   "source": [
    "import os\n",
    "import requests\n",
    "url = \"https://snap.stanford.edu/data/soc-redditHyperlinks-title.tsv\"\n",
    "r = requests.get(url, stream = True)\n",
    "if not os.path.isfile(\"./soc-redditHyperlinks-title.tsv\"):\n",
    "    with open (\"soc-redditHyperlinks-title.tsv\",'wb') as f: \n",
    "        f.write(r.content)"
   ]
  },
  {
   "cell_type": "code",
   "execution_count": 4,
   "metadata": {},
   "outputs": [
    {
     "data": {
      "text/html": [
       "<div>\n",
       "<style scoped>\n",
       "    .dataframe tbody tr th:only-of-type {\n",
       "        vertical-align: middle;\n",
       "    }\n",
       "\n",
       "    .dataframe tbody tr th {\n",
       "        vertical-align: top;\n",
       "    }\n",
       "\n",
       "    .dataframe thead th {\n",
       "        text-align: right;\n",
       "    }\n",
       "</style>\n",
       "<table border=\"1\" class=\"dataframe\">\n",
       "  <thead>\n",
       "    <tr style=\"text-align: right;\">\n",
       "      <th></th>\n",
       "      <th>source</th>\n",
       "      <th>target</th>\n",
       "      <th>time</th>\n",
       "    </tr>\n",
       "  </thead>\n",
       "  <tbody>\n",
       "    <tr>\n",
       "      <td>0</td>\n",
       "      <td>rddtgaming</td>\n",
       "      <td>rddtrust</td>\n",
       "      <td>2013-12-31 16:39:18</td>\n",
       "    </tr>\n",
       "    <tr>\n",
       "      <td>1</td>\n",
       "      <td>xboxone</td>\n",
       "      <td>battlefield_4</td>\n",
       "      <td>2013-12-31 17:59:11</td>\n",
       "    </tr>\n",
       "    <tr>\n",
       "      <td>2</td>\n",
       "      <td>ps4</td>\n",
       "      <td>battlefield_4</td>\n",
       "      <td>2013-12-31 17:59:40</td>\n",
       "    </tr>\n",
       "    <tr>\n",
       "      <td>3</td>\n",
       "      <td>fitnesscirclejerk</td>\n",
       "      <td>leangains</td>\n",
       "      <td>2013-12-31 19:01:56</td>\n",
       "    </tr>\n",
       "    <tr>\n",
       "      <td>4</td>\n",
       "      <td>fitnesscirclejerk</td>\n",
       "      <td>lifeprotips</td>\n",
       "      <td>2013-12-31 21:02:28</td>\n",
       "    </tr>\n",
       "  </tbody>\n",
       "</table>\n",
       "</div>"
      ],
      "text/plain": [
       "              source         target                 time\n",
       "0         rddtgaming       rddtrust  2013-12-31 16:39:18\n",
       "1            xboxone  battlefield_4  2013-12-31 17:59:11\n",
       "2                ps4  battlefield_4  2013-12-31 17:59:40\n",
       "3  fitnesscirclejerk      leangains  2013-12-31 19:01:56\n",
       "4  fitnesscirclejerk    lifeprotips  2013-12-31 21:02:28"
      ]
     },
     "execution_count": 4,
     "metadata": {},
     "output_type": "execute_result"
    }
   ],
   "source": [
    "import pandas as pd \n",
    "\n",
    "index = [\"SOURCE_SUBREDDIT\",\"TARGET_SUBREDDIT\", \"TIMESTAMP\"]\n",
    "df = (pd.read_csv('./soc-redditHyperlinks-title.tsv', sep='\\t') \n",
    "                .loc[:,index]\n",
    "                .rename(columns = {\"SOURCE_SUBREDDIT\": \"source\", \n",
    "                                  \"TARGET_SUBREDDIT\": \"target\",\n",
    "                                  \"TIMESTAMP\": \"time\"}))\n",
    "df.head()"
   ]
  },
  {
   "cell_type": "code",
   "execution_count": 2,
   "metadata": {},
   "outputs": [
    {
     "data": {
      "text/html": [
       "<div>\n",
       "<style scoped>\n",
       "    .dataframe tbody tr th:only-of-type {\n",
       "        vertical-align: middle;\n",
       "    }\n",
       "\n",
       "    .dataframe tbody tr th {\n",
       "        vertical-align: top;\n",
       "    }\n",
       "\n",
       "    .dataframe thead th {\n",
       "        text-align: right;\n",
       "    }\n",
       "</style>\n",
       "<table border=\"1\" class=\"dataframe\">\n",
       "  <thead>\n",
       "    <tr style=\"text-align: right;\">\n",
       "      <th></th>\n",
       "      <th>source</th>\n",
       "      <th>target</th>\n",
       "      <th>time</th>\n",
       "    </tr>\n",
       "  </thead>\n",
       "  <tbody>\n",
       "    <tr>\n",
       "      <td>0</td>\n",
       "      <td>rddtgaming</td>\n",
       "      <td>rddtrust</td>\n",
       "      <td>1.388508e+09</td>\n",
       "    </tr>\n",
       "    <tr>\n",
       "      <td>1</td>\n",
       "      <td>xboxone</td>\n",
       "      <td>battlefield_4</td>\n",
       "      <td>1.388513e+09</td>\n",
       "    </tr>\n",
       "    <tr>\n",
       "      <td>2</td>\n",
       "      <td>ps4</td>\n",
       "      <td>battlefield_4</td>\n",
       "      <td>1.388513e+09</td>\n",
       "    </tr>\n",
       "    <tr>\n",
       "      <td>3</td>\n",
       "      <td>fitnesscirclejerk</td>\n",
       "      <td>leangains</td>\n",
       "      <td>1.388517e+09</td>\n",
       "    </tr>\n",
       "    <tr>\n",
       "      <td>4</td>\n",
       "      <td>fitnesscirclejerk</td>\n",
       "      <td>lifeprotips</td>\n",
       "      <td>1.388524e+09</td>\n",
       "    </tr>\n",
       "  </tbody>\n",
       "</table>\n",
       "</div>"
      ],
      "text/plain": [
       "              source         target          time\n",
       "0         rddtgaming       rddtrust  1.388508e+09\n",
       "1            xboxone  battlefield_4  1.388513e+09\n",
       "2                ps4  battlefield_4  1.388513e+09\n",
       "3  fitnesscirclejerk      leangains  1.388517e+09\n",
       "4  fitnesscirclejerk    lifeprotips  1.388524e+09"
      ]
     },
     "execution_count": 2,
     "metadata": {},
     "output_type": "execute_result"
    }
   ],
   "source": [
    "import datetime\n",
    "def time_converter(record): \n",
    "    return datetime.datetime.strptime(record, '%Y-%m-%d %H:%M:%S').timestamp()\n",
    "df['time'] = df['time'].map(time_converter)\n",
    "df.head()"
   ]
  },
  {
   "cell_type": "code",
   "execution_count": 3,
   "metadata": {},
   "outputs": [
    {
     "data": {
      "text/html": [
       "<div>\n",
       "<style scoped>\n",
       "    .dataframe tbody tr th:only-of-type {\n",
       "        vertical-align: middle;\n",
       "    }\n",
       "\n",
       "    .dataframe tbody tr th {\n",
       "        vertical-align: top;\n",
       "    }\n",
       "\n",
       "    .dataframe thead th {\n",
       "        text-align: right;\n",
       "    }\n",
       "</style>\n",
       "<table border=\"1\" class=\"dataframe\">\n",
       "  <thead>\n",
       "    <tr style=\"text-align: right;\">\n",
       "      <th></th>\n",
       "      <th>source</th>\n",
       "      <th>target</th>\n",
       "      <th>time</th>\n",
       "    </tr>\n",
       "  </thead>\n",
       "  <tbody>\n",
       "    <tr>\n",
       "      <td>0</td>\n",
       "      <td>37907</td>\n",
       "      <td>37908</td>\n",
       "      <td>1.388508e+09</td>\n",
       "    </tr>\n",
       "    <tr>\n",
       "      <td>1</td>\n",
       "      <td>53373</td>\n",
       "      <td>4595</td>\n",
       "      <td>1.388513e+09</td>\n",
       "    </tr>\n",
       "    <tr>\n",
       "      <td>2</td>\n",
       "      <td>36922</td>\n",
       "      <td>4595</td>\n",
       "      <td>1.388513e+09</td>\n",
       "    </tr>\n",
       "    <tr>\n",
       "      <td>3</td>\n",
       "      <td>16711</td>\n",
       "      <td>25879</td>\n",
       "      <td>1.388517e+09</td>\n",
       "    </tr>\n",
       "    <tr>\n",
       "      <td>4</td>\n",
       "      <td>16711</td>\n",
       "      <td>26476</td>\n",
       "      <td>1.388524e+09</td>\n",
       "    </tr>\n",
       "  </tbody>\n",
       "</table>\n",
       "</div>"
      ],
      "text/plain": [
       "   source  target          time\n",
       "0   37907   37908  1.388508e+09\n",
       "1   53373    4595  1.388513e+09\n",
       "2   36922    4595  1.388513e+09\n",
       "3   16711   25879  1.388517e+09\n",
       "4   16711   26476  1.388524e+09"
      ]
     },
     "execution_count": 3,
     "metadata": {},
     "output_type": "execute_result"
    }
   ],
   "source": [
    "from sklearn import preprocessing\n",
    "LabelEncoder = preprocessing.LabelEncoder()\n",
    "LabelEncoder.fit(df[['source', 'target']].to_numpy().ravel())\n",
    "df['source'] = LabelEncoder.transform(df['source'])\n",
    "df['target'] = LabelEncoder.transform(df['target'])\n",
    "df.head()"
   ]
  },
  {
   "cell_type": "code",
   "execution_count": 4,
   "metadata": {},
   "outputs": [
    {
     "name": "stdout",
     "output_type": "stream",
     "text": [
      "<class 'pandas.core.frame.DataFrame'>\n",
      "RangeIndex: 571927 entries, 0 to 571926\n",
      "Data columns (total 3 columns):\n",
      "source    571927 non-null int64\n",
      "target    571927 non-null int64\n",
      "time      571927 non-null float64\n",
      "dtypes: float64(1), int64(2)\n",
      "memory usage: 13.1 MB\n"
     ]
    }
   ],
   "source": [
    "import networkx as nx\n",
    "import dynetx as dn\n",
    "G = dn.DynDiGraph()\n",
    "df.apply(lambda row: G.add_interaction(u=row['source'], v=row['target'], t=row['time']), axis=1)\n",
    "df.info()"
   ]
  },
  {
   "cell_type": "code",
   "execution_count": 24,
   "metadata": {},
   "outputs": [
    {
     "data": {
      "text/plain": [
       "Text(0, 0.5, 'degree')"
      ]
     },
     "execution_count": 24,
     "metadata": {},
     "output_type": "execute_result"
    },
    {
     "data": {
      "image/png": "[encoded data removed]",
      "text/plain": [
       "<Figure size 432x288 with 1 Axes>"
      ]
     },
     "metadata": {
      "needs_background": "light"
     },
     "output_type": "display_data"
    }
   ],
   "source": [
    "import matplotlib.pyplot as plt \n",
    "degrees = list(G.degree().values())\n",
    "degrees.sort(reverse=True)\n",
    "plt.plot(degrees)\n",
    "plt.xlabel(\"node\")\n",
    "plt.ylabel(\"degree\")"
   ]
  },
  {
   "cell_type": "code",
   "execution_count": 25,
   "metadata": {},
   "outputs": [
    {
     "data": {
      "text/plain": [
       "Text(0, 0.5, 'degree')"
      ]
     },
     "execution_count": 25,
     "metadata": {},
     "output_type": "execute_result"
    },
    {
     "data": {
      "image/png": "[encoded data removed]",
      "text/plain": [
       "<Figure size 432x288 with 1 Axes>"
      ]
     },
     "metadata": {
      "needs_background": "light"
     },
     "output_type": "display_data"
    }
   ],
   "source": [
    "plt.loglog(degrees)\n",
    "plt.xlabel(\"node\")\n",
    "plt.ylabel(\"degree\")"
   ]
  },
  {
   "cell_type": "code",
   "execution_count": 26,
   "metadata": {},
   "outputs": [
    {
     "data": {
      "text/plain": [
       "Text(0, 0.5, 'number of nodes')"
      ]
     },
     "execution_count": 26,
     "metadata": {},
     "output_type": "execute_result"
    },
    {
     "data": {
      "image/png": "[encoded data removed]",
      "text/plain": [
       "<Figure size 432x288 with 1 Axes>"
      ]
     },
     "metadata": {
      "needs_background": "light"
     },
     "output_type": "display_data"
    }
   ],
   "source": [
    "from collections import Counter\n",
    "counter = Counter(degrees)\n",
    "index = range(1, max(degrees)+1)\n",
    "values = [counter[key] for key in index]\n",
    "plt.plot(index, values)\n",
    "plt.xlabel(\"degree\")\n",
    "plt.ylabel(\"number of nodes\")"
   ]
  },
  {
   "cell_type": "code",
   "execution_count": 27,
   "metadata": {},
   "outputs": [
    {
     "data": {
      "text/plain": [
       "Text(0, 0.5, 'number of nodes')"
      ]
     },
     "execution_count": 27,
     "metadata": {},
     "output_type": "execute_result"
    },
    {
     "data": {
      "image/png": "[encoded data removed]",
      "text/plain": [
       "<Figure size 432x288 with 1 Axes>"
      ]
     },
     "metadata": {
      "needs_background": "light"
     },
     "output_type": "display_data"
    }
   ],
   "source": [
    "plt.loglog(index, values)\n",
    "plt.xlabel(\"degree\")\n",
    "plt.ylabel(\"number of nodes\")"
   ]
  },
  {
   "cell_type": "code",
   "execution_count": 41,
   "metadata": {},
   "outputs": [],
   "source": [
    "nodes = set()\n",
    "nodes_times, edges_times = [], []\n",
    "edges = 0\n",
    "times = []\n",
    "for edge in G.stream_interactions():\n",
    "        times.append(datetime.datetime.fromtimestamp(edge[3]).strftime('%Y-%m'))\n",
    "        edges += 1\n",
    "        edges_times.append(edges)\n",
    "        nodes.add(edge[0])\n",
    "        nodes.add(edge[1])\n",
    "        nodes_times.append(len(nodes))"
   ]
  },
  {
   "cell_type": "code",
   "execution_count": 42,
   "metadata": {},
   "outputs": [],
   "source": [
    "import numpy as np\n",
    "def downsample_time(times, nodes_times, edges_times, target_samples):\n",
    "    total_samples = len(times)\n",
    "    interval = total_samples / target_samples\n",
    "    indexes = np.floor(np.arange(1,target_samples+1) * interval - 1)\n",
    "    node_sampled = [nodes_times[int(index)] for index in indexes]\n",
    "    edge_sampled = [edges_times[int(index)] for index in indexes]\n",
    "    time_sampled = [times[int(index)] for index in indexes]\n",
    "    return node_sampled, edge_sampled, time_sampled\n",
    "nodes, edges, timesample = downsample_time(times, nodes_times, edges_times, 12)"
   ]
  },
  {
   "cell_type": "code",
   "execution_count": 47,
   "metadata": {},
   "outputs": [
    {
     "data": {
      "text/plain": [
       "<matplotlib.legend.Legend at 0x7f315194c9b0>"
      ]
     },
     "execution_count": 47,
     "metadata": {},
     "output_type": "execute_result"
    },
    {
     "data": {
      "image/png": "[encoded data removed]",
      "text/plain": [
       "<Figure size 864x288 with 1 Axes>"
      ]
     },
     "metadata": {
      "needs_background": "light"
     },
     "output_type": "display_data"
    }
   ],
   "source": [
    "plt.figure(figsize=(12, 4))\n",
    "plt.plot(timesample, nodes, 'b.-')\n",
    "plt.xlabel(\"time\")\n",
    "plt.ylabel(\"count\")\n",
    "plt.plot(timesample, edges, 'rx-')\n",
    "plt.xlabel(\"time\")\n",
    "plt.legend([\"nodes\", \"edges\"])"
   ]
  },
  {
   "cell_type": "code",
   "execution_count": 17,
   "metadata": {},
   "outputs": [
    {
     "name": "stdout",
     "output_type": "stream",
     "text": [
      "mean: 8.683938973647711\n",
      "edges: 561481\n",
      "nodes: 54075\n",
      "growth rate is 1351.875 nodes/month and 14037.025 edges/month.\n"
     ]
    }
   ],
   "source": [
    "print('mean:', np.mean(degrees))\n",
    "print('edges:', edges_times[-1])\n",
    "print('nodes:', nodes_times[-1])\n",
    "print(\"growth rate is\", nodes_times[-1]/40, \"nodes/month and\", edges_times[-1]/40, \"edges/month.\")"
   ]
  },
  {
   "cell_type": "code",
   "execution_count": null,
   "metadata": {},
   "outputs": [],
   "source": []
  }
 ],
 "metadata": {
  "kernelspec": {
   "display_name": "Python 3",
   "language": "python",
   "name": "python3"
  },
  "language_info": {
   "codemirror_mode": {
    "name": "ipython",
    "version": 3
   },
   "file_extension": ".py",
   "mimetype": "text/x-python",
   "name": "python",
   "nbconvert_exporter": "python",
   "pygments_lexer": "ipython3",
   "version": "3.7.3"
  }
 },
 "nbformat": 4,
 "nbformat_minor": 4
}
